{
  "nbformat": 4,
  "nbformat_minor": 0,
  "metadata": {
    "kernelspec": {
      "display_name": "Python 3",
      "language": "python",
      "name": "python3"
    },
    "language_info": {
      "codemirror_mode": {
        "name": "ipython",
        "version": 3
      },
      "file_extension": ".py",
      "mimetype": "text/x-python",
      "name": "python",
      "nbconvert_exporter": "python",
      "pygments_lexer": "ipython3",
      "version": "3.8.2"
    },
    "colab": {
      "name": "02.IndexingAndSlicingOfNumPyArrays.ipynb",
      "provenance": [],
      "collapsed_sections": [],
      "include_colab_link": true
    }
  },
  "cells": [
    {
      "cell_type": "markdown",
      "metadata": {
        "id": "view-in-github",
        "colab_type": "text"
      },
      "source": [
        "<a href=\"https://colab.research.google.com/github/zeynepyilmazz/DataScienceBootcamp/blob/main/03.PythonDataScienceLibraries/02.IndexingAndSlicingOfNumPyArrays.ipynb\" target=\"_parent\"><img src=\"https://colab.research.google.com/assets/colab-badge.svg\" alt=\"Open In Colab\"/></a>"
      ]
    },
    {
      "cell_type": "markdown",
      "metadata": {
        "id": "fLgaV_vXSj9o"
      },
      "source": [
        "For the assignment, you are going to use [Earthquakes](https://bootrain-lms-assets.s3.eu-central-1.amazonaws.com/bootrain-lms-static/datasets/Earthquakes.csv) dataset."
      ]
    },
    {
      "cell_type": "markdown",
      "metadata": {
        "id": "15b5dY9sSj9u"
      },
      "source": [
        "**(1)** Load the Earthquakes dataset. Export the dataset to an array as you covered in the previous lesson."
      ]
    },
    {
      "cell_type": "code",
      "metadata": {
        "id": "MGnxPl_dioiI"
      },
      "source": [
        "import numpy as np\n",
        "import csv"
      ],
      "execution_count": null,
      "outputs": []
    },
    {
      "cell_type": "code",
      "metadata": {
        "id": "U2lQmuRgSj9v",
        "colab": {
          "base_uri": "https://localhost:8080/"
        },
        "outputId": "86198cf3-dddf-44d1-c04d-d6eb687e2528"
      },
      "source": [
        "liste = []\n",
        "with open(\"Earthquakes.csv\") as f:\n",
        "    reader = csv.reader(f, quotechar=\",\")\n",
        "    for line in reader:\n",
        "      liste.append(line)\n",
        "\n",
        "array = np.array(liste,dtype=float)\n",
        "print(array[0])\n"
      ],
      "execution_count": null,
      "outputs": [
        {
          "output_type": "stream",
          "text": [
            "[ 0.      0.      0.      0.      0.     36.8578 44.4161 16.97    0.\n",
            "  7.      0.      0.      4.      7.      0.    ]\n"
          ],
          "name": "stdout"
        }
      ]
    },
    {
      "cell_type": "markdown",
      "metadata": {
        "id": "qANZqSzlSj9v"
      },
      "source": [
        "**(2)** Slice first 20 rows and column numbers 3, 5, 6, 7, 12. Then, assign the array you sliced to a variable."
      ]
    },
    {
      "cell_type": "code",
      "metadata": {
        "id": "XXPm1R3aSj9v",
        "colab": {
          "base_uri": "https://localhost:8080/"
        },
        "outputId": "96a07af5-a659-4f19-fe5a-d25bf7c7e16b"
      },
      "source": [
        "new_array = array[0:20,[0,3,5,6,7,12]]\n",
        "print(new_array)"
      ],
      "execution_count": null,
      "outputs": [
        {
          "output_type": "stream",
          "text": [
            "[[ 0.      0.     36.8578 44.4161 16.97    4.    ]\n",
            " [ 1.      0.     37.4341 35.852   7.02    4.1   ]\n",
            " [ 2.      0.     37.6878 37.4016 10.27    4.4   ]\n",
            " [ 3.      0.     37.2003 30.4376 78.07    4.    ]\n",
            " [ 4.      0.     35.6846 26.7266 42.77    4.5   ]\n",
            " [ 5.      0.     36.4171 28.6991 14.86    4.1   ]\n",
            " [ 6.      0.     36.0535 31.2135 36.68    5.2   ]\n",
            " [ 7.      0.     37.1958 30.6241 50.33    4.8   ]\n",
            " [ 8.      0.     36.9653 27.7633  6.93    4.3   ]\n",
            " [ 9.      0.     38.893  26.4483 11.62    4.2   ]\n",
            " [10.      0.     37.3773 36.3855 10.53    4.8   ]\n",
            " [11.      0.     35.8861 26.0695 28.49    4.9   ]\n",
            " [12.      0.     37.4635 36.3113 15.29    4.3   ]\n",
            " [13.      0.     37.0201 36.0845 10.      4.1   ]\n",
            " [14.      0.     37.6546 26.6698  4.5     4.5   ]\n",
            " [15.      0.     37.5318 29.848  17.58    4.6   ]\n",
            " [16.      0.     39.0388 44.1533  7.52    4.5   ]\n",
            " [17.      0.     38.357  44.8686 10.05    4.1   ]\n",
            " [18.      0.     35.7018 28.1495  6.25    4.1   ]\n",
            " [19.      0.     37.6883 37.3968 10.63    4.1   ]]\n"
          ],
          "name": "stdout"
        }
      ]
    },
    {
      "cell_type": "markdown",
      "metadata": {
        "id": "J-QCHxeYSj9w"
      },
      "source": [
        "**(3)** Display the row numbers where last values are equal to 4.5 or higher."
      ]
    },
    {
      "cell_type": "code",
      "metadata": {
        "id": "i6nAuhm1Sj9w",
        "colab": {
          "base_uri": "https://localhost:8080/"
        },
        "outputId": "0ea7134a-b3c7-4f7b-c0ea-6d35a30ac083"
      },
      "source": [
        "print(new_array[new_array[:,-1] >= 4.5 , 0])"
      ],
      "execution_count": null,
      "outputs": [
        {
          "output_type": "stream",
          "text": [
            "[ 4.  6.  7. 10. 11. 14. 15. 16.]\n"
          ],
          "name": "stdout"
        }
      ]
    },
    {
      "cell_type": "markdown",
      "metadata": {
        "id": "JL_3gJJqSj9w"
      },
      "source": [
        "**(4)** Assign 1 to first row."
      ]
    },
    {
      "cell_type": "code",
      "metadata": {
        "id": "LvKP8W0aSj9w",
        "colab": {
          "base_uri": "https://localhost:8080/"
        },
        "outputId": "6c8c03d3-d27d-4eee-b6ea-d32ec70d240b"
      },
      "source": [
        "new_array[0 ,] = 1\n",
        "print(new_array)"
      ],
      "execution_count": null,
      "outputs": [
        {
          "output_type": "stream",
          "text": [
            "[[ 1.      1.      1.      1.      1.      1.    ]\n",
            " [ 1.      0.     37.4341 35.852   7.02    4.1   ]\n",
            " [ 2.      0.     37.6878 37.4016 10.27    4.4   ]\n",
            " [ 3.      0.     37.2003 30.4376 78.07    4.    ]\n",
            " [ 4.      0.     35.6846 26.7266 42.77    4.5   ]\n",
            " [ 5.      0.     36.4171 28.6991 14.86    4.1   ]\n",
            " [ 6.      0.     36.0535 31.2135 36.68    5.2   ]\n",
            " [ 7.      0.     37.1958 30.6241 50.33    4.8   ]\n",
            " [ 8.      0.     36.9653 27.7633  6.93    4.3   ]\n",
            " [ 9.      0.     38.893  26.4483 11.62    4.2   ]\n",
            " [10.      0.     37.3773 36.3855 10.53    4.8   ]\n",
            " [11.      0.     35.8861 26.0695 28.49    4.9   ]\n",
            " [12.      0.     37.4635 36.3113 15.29    4.3   ]\n",
            " [13.      0.     37.0201 36.0845 10.      4.1   ]\n",
            " [14.      0.     37.6546 26.6698  4.5     4.5   ]\n",
            " [15.      0.     37.5318 29.848  17.58    4.6   ]\n",
            " [16.      0.     39.0388 44.1533  7.52    4.5   ]\n",
            " [17.      0.     38.357  44.8686 10.05    4.1   ]\n",
            " [18.      0.     35.7018 28.1495  6.25    4.1   ]\n",
            " [19.      0.     37.6883 37.3968 10.63    4.1   ]]\n"
          ],
          "name": "stdout"
        }
      ]
    },
    {
      "cell_type": "markdown",
      "metadata": {
        "id": "o7pY3bMdSj9x"
      },
      "source": [
        "**(5)** Save the final state of the array to disk. You are going to use this in the next assignment."
      ]
    },
    {
      "cell_type": "code",
      "metadata": {
        "id": "SR69q0N9Sj9x"
      },
      "source": [
        "np.save(\"array.npy\", array)"
      ],
      "execution_count": null,
      "outputs": []
    },
    {
      "cell_type": "code",
      "metadata": {
        "id": "PENdyy9G9wnw"
      },
      "source": [
        ""
      ],
      "execution_count": null,
      "outputs": []
    }
  ]
}