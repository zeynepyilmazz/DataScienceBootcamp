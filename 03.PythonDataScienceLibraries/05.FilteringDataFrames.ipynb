{
  "nbformat": 4,
  "nbformat_minor": 0,
  "metadata": {
    "kernelspec": {
      "display_name": "Python 3",
      "language": "python",
      "name": "python3"
    },
    "language_info": {
      "codemirror_mode": {
        "name": "ipython",
        "version": 3
      },
      "file_extension": ".py",
      "mimetype": "text/x-python",
      "name": "python",
      "nbconvert_exporter": "python",
      "pygments_lexer": "ipython3",
      "version": "3.7.3"
    },
    "colab": {
      "name": "05.FilteringDataFrames.ipynb",
      "provenance": [],
      "collapsed_sections": [],
      "include_colab_link": true
    }
  },
  "cells": [
    {
      "cell_type": "markdown",
      "metadata": {
        "id": "view-in-github",
        "colab_type": "text"
      },
      "source": [
        "<a href=\"https://colab.research.google.com/github/zeynepyilmazz/DataScienceBootcamp/blob/main/03.PythonDataScienceLibraries/05.FilteringDataFrames.ipynb\" target=\"_parent\"><img src=\"https://colab.research.google.com/assets/colab-badge.svg\" alt=\"Open In Colab\"/></a>"
      ]
    },
    {
      "cell_type": "markdown",
      "metadata": {
        "id": "yEd24CpzV1zL"
      },
      "source": [
        "For Pandas assignments, you are going to use [Titanic](https://www.kaggle.com/c/titanic/download/GQf0y8ebHO0C4JXscPPp%2Fversions%2FXkNkvXwqPPVG0Qt3MtQT%2Ffiles%2Ftrain.csv) (train.csv) dataset. Download the dataset and load to a DataFrame.\n",
        "\n",
        "**(1)** By using conditional selection methods, calculate the survival rate for all passengers under 30 years old.\n"
      ]
    },
    {
      "cell_type": "code",
      "metadata": {
        "id": "Vj0LlQKdW5p4"
      },
      "source": [
        "import pandas as pd\n",
        "import numpy as np"
      ],
      "execution_count": null,
      "outputs": []
    },
    {
      "cell_type": "code",
      "metadata": {
        "id": "A9WqXHHIV1zf"
      },
      "source": [
        "file_path = \"train.csv\"\n",
        "info = pd.read_csv(file_path, index_col=0)"
      ],
      "execution_count": null,
      "outputs": []
    },
    {
      "cell_type": "code",
      "metadata": {
        "colab": {
          "base_uri": "https://localhost:8080/"
        },
        "id": "_Rf3ZTfrd14a",
        "outputId": "68525c66-44ab-4f4a-801d-389418ed4249"
      },
      "source": [
        "total = info[(info['Age'] < 30)].shape[0]\n",
        "survivor = info[(info['Age'] < 30) & (info['Survived'] == 1)].shape[0]\n",
        "survival_rate = (survivor * 100) / (total)\n",
        "print(survival_rate)\n"
      ],
      "execution_count": null,
      "outputs": [
        {
          "output_type": "stream",
          "text": [
            "40.625\n"
          ],
          "name": "stdout"
        }
      ]
    },
    {
      "cell_type": "markdown",
      "metadata": {
        "id": "QvjrT3kEV1zj"
      },
      "source": [
        "**(2)** Calculate the survival rate by gender."
      ]
    },
    {
      "cell_type": "code",
      "metadata": {
        "id": "6g6OE1XJV1zk",
        "colab": {
          "base_uri": "https://localhost:8080/"
        },
        "outputId": "77314a25-f4c0-40ce-f05e-565660162f3d"
      },
      "source": [
        "female = info[(info['Sex'] == 'female') & (info['Survived'] == 1)].shape[0] + info[(info['Sex'] == 'female') & (info['Survived'] == 0)].shape[0]\n",
        "survivor_female = info[(info['Sex'] == 'female') & (info['Survived'] == 1)].shape[0]\n",
        "female_rate = (survivor_female * 100) /(female)\n",
        "print(\"survival rate by female : %{:.2f} \".format(female_rate))"
      ],
      "execution_count": null,
      "outputs": [
        {
          "output_type": "stream",
          "text": [
            "survival rate by female : %74.20 \n"
          ],
          "name": "stdout"
        }
      ]
    },
    {
      "cell_type": "code",
      "metadata": {
        "colab": {
          "base_uri": "https://localhost:8080/"
        },
        "id": "PxfwjDjEiacU",
        "outputId": "4303131b-ecd0-4c1f-f05b-c22e4772b8c0"
      },
      "source": [
        "male = info[(info['Sex'] == 'male') & (info['Survived'] == 1)].shape[0] + info[(info['Sex'] == 'male') & (info['Survived'] == 0)].shape[0]\n",
        "survivor_male = info[(info['Sex'] == 'male') & (info['Survived'] == 1)].shape[0]\n",
        "male_rate = (survivor_male * 100) /(male)\n",
        "print(\"survival rate by male : %{:.2f} \".format(male_rate))"
      ],
      "execution_count": null,
      "outputs": [
        {
          "output_type": "stream",
          "text": [
            "survival rate by male : %18.89 \n"
          ],
          "name": "stdout"
        }
      ]
    }
  ]
}