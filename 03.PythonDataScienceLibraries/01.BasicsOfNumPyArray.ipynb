{
  "nbformat": 4,
  "nbformat_minor": 0,
  "metadata": {
    "kernelspec": {
      "display_name": "Python 3",
      "language": "python",
      "name": "python3"
    },
    "language_info": {
      "codemirror_mode": {
        "name": "ipython",
        "version": 3
      },
      "file_extension": ".py",
      "mimetype": "text/x-python",
      "name": "python",
      "nbconvert_exporter": "python",
      "pygments_lexer": "ipython3",
      "version": "3.8.2"
    },
    "colab": {
      "name": "01.BasicsOfNumPyArray.ipynb",
      "provenance": [],
      "collapsed_sections": [],
      "include_colab_link": true
    }
  },
  "cells": [
    {
      "cell_type": "markdown",
      "metadata": {
        "id": "view-in-github",
        "colab_type": "text"
      },
      "source": [
        "<a href=\"https://colab.research.google.com/github/zeynepyilmazz/DataScienceBootcamp/blob/main/03.PythonDataScienceLibraries/01.BasicsOfNumPyArray.ipynb\" target=\"_parent\"><img src=\"https://colab.research.google.com/assets/colab-badge.svg\" alt=\"Open In Colab\"/></a>"
      ]
    },
    {
      "cell_type": "markdown",
      "metadata": {
        "id": "OYGzO6ceSHLz"
      },
      "source": [
        "**(1)** Create 3 lists representing house features, each list containing 10 values. First one for squaremeter of house, second one for rooms and last one for price. Then, create an array combining these lists."
      ]
    },
    {
      "cell_type": "code",
      "metadata": {
        "id": "Cs1u4NAnZRtB"
      },
      "source": [
        "import numpy as np"
      ],
      "execution_count": null,
      "outputs": []
    },
    {
      "cell_type": "code",
      "metadata": {
        "id": "7CeeUDz6SHL5",
        "colab": {
          "base_uri": "https://localhost:8080/"
        },
        "outputId": "136dfeba-a9f6-49c8-e40c-44bfe489d9ee"
      },
      "source": [
        "\n",
        "squaremeter = np.array([120,100,80,65,110,90,100,135,75,100])\n",
        "rooms = np.array([3,2,2,1,3,2,2,3,1,2])\n",
        "price = np.array([500,400,450,300,300,400,500,600,250,400])\n",
        "all = np.array([squaremeter,rooms,price])\n",
        "print(all)"
      ],
      "execution_count": null,
      "outputs": [
        {
          "output_type": "stream",
          "text": [
            "[[120 100  80  65 110  90 100 135  75 100]\n",
            " [  3   2   2   1   3   2   2   3   1   2]\n",
            " [500 400 450 300 300 400 500 600 250 400]]\n"
          ],
          "name": "stdout"
        }
      ]
    },
    {
      "cell_type": "markdown",
      "metadata": {
        "id": "TBx9kAOGSHL6"
      },
      "source": [
        "**(2)** Transpose the array you have created, so that every line can represent features of one house."
      ]
    },
    {
      "cell_type": "code",
      "metadata": {
        "id": "2n2R_pBRSHL7",
        "colab": {
          "base_uri": "https://localhost:8080/"
        },
        "outputId": "a2285b9d-9247-4fb1-a1f6-7b42d2b9c7e0"
      },
      "source": [
        "all_new = all.transpose()\n",
        "print(all_new)"
      ],
      "execution_count": null,
      "outputs": [
        {
          "output_type": "stream",
          "text": [
            "[[120   3 500]\n",
            " [100   2 400]\n",
            " [ 80   2 450]\n",
            " [ 65   1 300]\n",
            " [110   3 300]\n",
            " [ 90   2 400]\n",
            " [100   2 500]\n",
            " [135   3 600]\n",
            " [ 75   1 250]\n",
            " [100   2 400]]\n"
          ],
          "name": "stdout"
        }
      ]
    },
    {
      "cell_type": "markdown",
      "metadata": {
        "id": "-bp-pzruSHL7"
      },
      "source": [
        "**(3)** Display the shape of the array and explain what it means."
      ]
    },
    {
      "cell_type": "code",
      "metadata": {
        "id": "xj5t92-rSHL7",
        "colab": {
          "base_uri": "https://localhost:8080/"
        },
        "outputId": "46d928d6-2a70-4e33-a1c3-5744cd995610"
      },
      "source": [
        "print(squaremeter.shape) #(10,) tek boyutlu 10 elemanlı bir dizi\n",
        "print(rooms.shape)       #(10,) tek boyutlu 10 elemanlı bir dizi\n",
        "print(price.shape)       #(10,) tek boyutlu 10 elemanlı bir dizi\n",
        "print(all.shape)         #(3, 10) iki boyutlu 3 satır 10 sütundan oluşan 3 x 10 = 30 elemanlı bir dizi\n",
        "print(all_new.shape)     #(10, 3) iki boyutlu 10 satır 3 sütundan oluşan 10 x 3 = 30 elemanlı bir dizi"
      ],
      "execution_count": null,
      "outputs": [
        {
          "output_type": "stream",
          "text": [
            "(10,)\n",
            "(10,)\n",
            "(10,)\n",
            "(3, 10)\n",
            "(10, 3)\n"
          ],
          "name": "stdout"
        }
      ]
    },
    {
      "cell_type": "markdown",
      "metadata": {
        "id": "VoV2Zhz7SHL7"
      },
      "source": [
        "**(4)** Write a function that returns an array of ones with zeros where both row and column numbers are even. Sample array is below. Number of rows and columns will be entered as parameters.\n",
        "\n",
        "```python\n",
        "    shape(6 x 5) --> [[1   1   1   1   1]\n",
        "                      [1   0   1   0   1]\n",
        "                      [1   1   1   1   1]\n",
        "                      [1   0   1   0   1]\n",
        "                      [1   1   1   1   1]\n",
        "                      [1   0   1   0   1]]\n",
        "```"
      ]
    },
    {
      "cell_type": "code",
      "metadata": {
        "id": "nReM3XJCSHL8",
        "colab": {
          "base_uri": "https://localhost:8080/"
        },
        "outputId": "65bc3102-2cad-4817-bb93-cd6d4e41dba5"
      },
      "source": [
        "def shape(x,y):\n",
        "  liste = np.zeros((x,y))\n",
        "  for i in range(0,x):\n",
        "    for j in range(0,y):\n",
        "      if (i % 2 == 0 or j % 2 == 0):\n",
        "        liste[i][j] = 1\n",
        "      else:\n",
        "        liste[i][j] = 0\n",
        "  return liste\n",
        "\n",
        "print(shape(6,5))"
      ],
      "execution_count": null,
      "outputs": [
        {
          "output_type": "stream",
          "text": [
            "[[1. 1. 1. 1. 1.]\n",
            " [1. 0. 1. 0. 1.]\n",
            " [1. 1. 1. 1. 1.]\n",
            " [1. 0. 1. 0. 1.]\n",
            " [1. 1. 1. 1. 1.]\n",
            " [1. 0. 1. 0. 1.]]\n"
          ],
          "name": "stdout"
        }
      ]
    }
  ]
}