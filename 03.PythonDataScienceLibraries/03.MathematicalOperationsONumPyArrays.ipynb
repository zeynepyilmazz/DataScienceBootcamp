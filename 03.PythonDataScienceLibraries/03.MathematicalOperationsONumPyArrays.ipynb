{
  "nbformat": 4,
  "nbformat_minor": 0,
  "metadata": {
    "kernelspec": {
      "display_name": "Python 3",
      "language": "python",
      "name": "python3"
    },
    "language_info": {
      "codemirror_mode": {
        "name": "ipython",
        "version": 3
      },
      "file_extension": ".py",
      "mimetype": "text/x-python",
      "name": "python",
      "nbconvert_exporter": "python",
      "pygments_lexer": "ipython3",
      "version": "3.8.2"
    },
    "colab": {
      "name": "03.MathematicalOperationsONumPyArrays.ipynb",
      "provenance": [],
      "collapsed_sections": [],
      "include_colab_link": true
    }
  },
  "cells": [
    {
      "cell_type": "markdown",
      "metadata": {
        "id": "view-in-github",
        "colab_type": "text"
      },
      "source": [
        "<a href=\"https://colab.research.google.com/github/zeynepyilmazz/DataScienceBootcamp/blob/main/03.PythonDataScienceLibraries/03.MathematicalOperationsONumPyArrays.ipynb\" target=\"_parent\"><img src=\"https://colab.research.google.com/assets/colab-badge.svg\" alt=\"Open In Colab\"/></a>"
      ]
    },
    {
      "cell_type": "markdown",
      "metadata": {
        "id": "v1xSX3vRDdyP"
      },
      "source": [
        "**(1)** Load the array you saved in the previous lesson from the disk."
      ]
    },
    {
      "cell_type": "code",
      "metadata": {
        "id": "1gzXEBgVEKQb"
      },
      "source": [
        "import numpy as np"
      ],
      "execution_count": 1,
      "outputs": []
    },
    {
      "cell_type": "code",
      "metadata": {
        "id": "Jop3SM_SDdyZ",
        "colab": {
          "base_uri": "https://localhost:8080/"
        },
        "outputId": "8bd13286-90a3-434b-97f8-55ecabc64836"
      },
      "source": [
        "array = np.load(\"array.npy\")\n",
        "print(array)\n"
      ],
      "execution_count": 2,
      "outputs": [
        {
          "output_type": "stream",
          "text": [
            "[[0.000e+00 0.000e+00 0.000e+00 ... 4.000e+00 7.000e+00 0.000e+00]\n",
            " [1.000e+00 0.000e+00 0.000e+00 ... 4.100e+00 7.000e+00 0.000e+00]\n",
            " [2.000e+00 0.000e+00 0.000e+00 ... 4.400e+00 7.000e+00 0.000e+00]\n",
            " ...\n",
            " [6.571e+03 4.000e+00 0.000e+00 ... 4.800e+00 2.000e+00 0.000e+00]\n",
            " [6.572e+03 3.000e+00 0.000e+00 ... 5.200e+00 2.000e+00 0.000e+00]\n",
            " [6.573e+03 2.000e+00 0.000e+00 ... 4.400e+00 2.000e+00 0.000e+00]]\n"
          ],
          "name": "stdout"
        }
      ]
    },
    {
      "cell_type": "markdown",
      "metadata": {
        "id": "EHonJBiHDdyb"
      },
      "source": [
        "**(2)** Display the mean and the standard deviation for each column."
      ]
    },
    {
      "cell_type": "code",
      "metadata": {
        "id": "KNyRSCkYDdyc",
        "colab": {
          "base_uri": "https://localhost:8080/"
        },
        "outputId": "d3992d82-1307-4eab-9191-d78b2de37dd3"
      },
      "source": [
        "print(array.mean(axis = 0))\n",
        "print(array.std(axis = 0))"
      ],
      "execution_count": 3,
      "outputs": [
        {
          "output_type": "stream",
          "text": [
            "[3.28650000e+03 5.49950198e+03 0.00000000e+00 8.86826894e-02\n",
            " 0.00000000e+00 3.84616969e+01 3.30841796e+01 2.49830271e+01\n",
            " 0.00000000e+00 1.01451171e+01 0.00000000e+00 0.00000000e+00\n",
            " 4.46759963e+00 6.77654396e+00 0.00000000e+00]\n",
            "[1.89775031e+03 3.97651842e+03 0.00000000e+00 4.06686207e-01\n",
            " 0.00000000e+00 1.63396498e+00 6.28004726e+00 2.77566002e+01\n",
            " 0.00000000e+00 1.27978334e+01 0.00000000e+00 0.00000000e+00\n",
            " 4.85681616e-01 5.41160601e+00 0.00000000e+00]\n"
          ],
          "name": "stdout"
        }
      ]
    },
    {
      "cell_type": "markdown",
      "metadata": {
        "id": "Bkyl_vAcDdyc"
      },
      "source": [
        "**(3)** Subtract 1, 25, 25, 10, 4 from columns in order. (Remember it can be subtracted in one line of code.)"
      ]
    },
    {
      "cell_type": "code",
      "metadata": {
        "id": "1n5aNxJIDdyd",
        "colab": {
          "base_uri": "https://localhost:8080/"
        },
        "outputId": "92bb4ad8-e389-478f-bf96-fe258d09b83e"
      },
      "source": [
        "del_array = np.delete(array,[1,25,25,10,4],axis = 0)\n",
        "print(del_array[0:25,])\n"
      ],
      "execution_count": 5,
      "outputs": [
        {
          "output_type": "stream",
          "text": [
            "[[ 0.      0.      0.      0.      0.     36.8578 44.4161 16.97    0.\n",
            "   7.      0.      0.      4.      7.      0.    ]\n",
            " [ 2.      0.      0.      0.      0.     37.6878 37.4016 10.27    0.\n",
            "   7.      0.      0.      4.4     7.      0.    ]\n",
            " [ 3.      0.      0.      0.      0.     37.2003 30.4376 78.07    0.\n",
            "   7.      0.      0.      4.      7.      0.    ]\n",
            " [ 5.      0.      0.      0.      0.     36.4171 28.6991 14.86    0.\n",
            "   7.      0.      0.      4.1     7.      0.    ]\n",
            " [ 6.      0.      0.      0.      0.     36.0535 31.2135 36.68    0.\n",
            "   7.      0.      0.      5.2     7.      0.    ]\n",
            " [ 7.      0.      0.      0.      0.     37.1958 30.6241 50.33    0.\n",
            "   7.      0.      0.      4.8     7.      0.    ]\n",
            " [ 8.      0.      0.      0.      0.     36.9653 27.7633  6.93    0.\n",
            "   7.      0.      0.      4.3     7.      0.    ]\n",
            " [ 9.      0.      0.      0.      0.     38.893  26.4483 11.62    0.\n",
            "   7.      0.      0.      4.2     7.      0.    ]\n",
            " [11.      0.      0.      0.      0.     35.8861 26.0695 28.49    0.\n",
            "   7.      0.      0.      4.9     7.      0.    ]\n",
            " [12.      0.      0.      0.      0.     37.4635 36.3113 15.29    0.\n",
            "   7.      0.      0.      4.3     7.      0.    ]\n",
            " [13.      0.      0.      0.      0.     37.0201 36.0845 10.      0.\n",
            "   7.      0.      0.      4.1     7.      0.    ]\n",
            " [14.      0.      0.      0.      0.     37.6546 26.6698  4.5     0.\n",
            "   7.      0.      0.      4.5     7.      0.    ]\n",
            " [15.      0.      0.      0.      0.     37.5318 29.848  17.58    0.\n",
            "   7.      0.      0.      4.6     7.      0.    ]\n",
            " [16.      0.      0.      0.      0.     39.0388 44.1533  7.52    0.\n",
            "   7.      0.      0.      4.5     7.      0.    ]\n",
            " [17.      0.      0.      0.      0.     38.357  44.8686 10.05    0.\n",
            "   7.      0.      0.      4.1     7.      0.    ]\n",
            " [18.      0.      0.      0.      0.     35.7018 28.1495  6.25    0.\n",
            "   7.      0.      0.      4.1     7.      0.    ]\n",
            " [19.      0.      0.      0.      0.     37.6883 37.3968 10.63    0.\n",
            "   7.      0.      0.      4.1     7.      0.    ]\n",
            " [20.      0.      0.      0.      0.     42.1821 42.5928  5.81    0.\n",
            "   7.      0.      0.      4.      7.      0.    ]\n",
            " [21.      0.      0.      0.      0.     38.8206 26.4095  7.      0.\n",
            "   7.      0.      0.      4.2     7.      0.    ]\n",
            " [22.      0.      0.      0.      0.     38.6235 44.3003  8.48    0.\n",
            "   7.      0.      0.      4.7     7.      0.    ]\n",
            " [23.      0.      0.      0.      0.     38.9413 43.5556 13.66    0.\n",
            "   7.      0.      0.      4.5     7.      0.    ]\n",
            " [24.      0.      0.      0.      0.     36.8686 27.5743 13.55    0.\n",
            "   7.      0.      0.      4.1     7.      0.    ]\n",
            " [26.      0.      0.      0.      0.     39.5906 26.      6.42    0.\n",
            "   7.      0.      0.      4.1     7.      0.    ]\n",
            " [27.      0.      0.      0.      0.     38.2403 42.392   3.69    0.\n",
            "   7.      0.      0.      4.2     7.      0.    ]\n",
            " [28.      0.      0.      0.      0.     37.4565 38.595   9.67    0.\n",
            "   7.      0.      0.      4.      7.      0.    ]]\n"
          ],
          "name": "stdout"
        }
      ]
    },
    {
      "cell_type": "markdown",
      "metadata": {
        "id": "mxT22VqHDdyd"
      },
      "source": [
        "**(4)** Multiply each element by 2. (Remember it can be multiplied in one line of code.)"
      ]
    },
    {
      "cell_type": "code",
      "metadata": {
        "id": "jojMV1ohDdye",
        "colab": {
          "base_uri": "https://localhost:8080/"
        },
        "outputId": "ff76dc29-0a68-482b-d443-6f257216d4b8"
      },
      "source": [
        "multiply_array = array * 2\n",
        "print(multiply_array)"
      ],
      "execution_count": 6,
      "outputs": [
        {
          "output_type": "stream",
          "text": [
            "[[0.0000e+00 0.0000e+00 0.0000e+00 ... 8.0000e+00 1.4000e+01 0.0000e+00]\n",
            " [2.0000e+00 0.0000e+00 0.0000e+00 ... 8.2000e+00 1.4000e+01 0.0000e+00]\n",
            " [4.0000e+00 0.0000e+00 0.0000e+00 ... 8.8000e+00 1.4000e+01 0.0000e+00]\n",
            " ...\n",
            " [1.3142e+04 8.0000e+00 0.0000e+00 ... 9.6000e+00 4.0000e+00 0.0000e+00]\n",
            " [1.3144e+04 6.0000e+00 0.0000e+00 ... 1.0400e+01 4.0000e+00 0.0000e+00]\n",
            " [1.3146e+04 4.0000e+00 0.0000e+00 ... 8.8000e+00 4.0000e+00 0.0000e+00]]\n"
          ],
          "name": "stdout"
        }
      ]
    },
    {
      "cell_type": "code",
      "metadata": {
        "id": "lnj5EztkzzeL"
      },
      "source": [
        ""
      ],
      "execution_count": null,
      "outputs": []
    }
  ]
}