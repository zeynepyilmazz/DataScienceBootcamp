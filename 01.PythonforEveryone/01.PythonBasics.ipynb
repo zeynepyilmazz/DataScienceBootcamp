{
  "nbformat": 4,
  "nbformat_minor": 0,
  "metadata": {
    "colab": {
      "name": "01.PythonBasics.ipynb",
      "provenance": [],
      "collapsed_sections": [],
      "authorship_tag": "ABX9TyOgmwnxiJz/h2JF85yMoyw0",
      "include_colab_link": true
    },
    "kernelspec": {
      "name": "python3",
      "display_name": "Python 3"
    }
  },
  "cells": [
    {
      "cell_type": "markdown",
      "metadata": {
        "id": "view-in-github",
        "colab_type": "text"
      },
      "source": [
        "<a href=\"https://colab.research.google.com/github/zeynepyilmazz/DataScienceBootcamp/blob/main/01.PythonforEveryone/01.PythonBasics.ipynb\" target=\"_parent\"><img src=\"https://colab.research.google.com/assets/colab-badge.svg\" alt=\"Open In Colab\"/></a>"
      ]
    },
    {
      "cell_type": "markdown",
      "metadata": {
        "id": "Ruczb6Vyk1hd"
      },
      "source": [
        "(1) Write a code that outputs your name and surname in one line."
      ]
    },
    {
      "cell_type": "code",
      "metadata": {
        "colab": {
          "base_uri": "https://localhost:8080/"
        },
        "id": "uvQuw-xXkvs7",
        "outputId": "7553e1c3-dfbd-48c8-b44a-430b392328a1"
      },
      "source": [
        "print(\"zeynep yılmaz\")"
      ],
      "execution_count": null,
      "outputs": [
        {
          "output_type": "stream",
          "text": [
            "zeynep yılmaz\n"
          ],
          "name": "stdout"
        }
      ]
    },
    {
      "cell_type": "markdown",
      "metadata": {
        "id": "NpnQ2KMalJ8-"
      },
      "source": [
        "(2) Write a 1-line code that outputs your name and surname in two separate lines by using a single print() call."
      ]
    },
    {
      "cell_type": "code",
      "metadata": {
        "colab": {
          "base_uri": "https://localhost:8080/"
        },
        "id": "M3E30lG-lMp_",
        "outputId": "fc209d68-f0ed-4069-b800-a035195f8cde"
      },
      "source": [
        "print(\"zeynep\\nyılmaz\")"
      ],
      "execution_count": null,
      "outputs": [
        {
          "output_type": "stream",
          "text": [
            "zeynep\n",
            "yılmaz\n"
          ],
          "name": "stdout"
        }
      ]
    },
    {
      "cell_type": "markdown",
      "metadata": {
        "id": "4KiBKBdClvww"
      },
      "source": [
        "(3) Use a single print() function that returns the following text. Notice the quotes in the text. Those quotes should be seen in the output!:\n",
        "\n",
        "She will be a \"champion\" even if she finishes the race in '2nd' place"
      ]
    },
    {
      "cell_type": "code",
      "metadata": {
        "colab": {
          "base_uri": "https://localhost:8080/"
        },
        "id": "NS5HrBbbl0Wt",
        "outputId": "bd2e5591-8cc4-4a2d-a1ba-db5fb5c345b1"
      },
      "source": [
        "print(\"\"\"She will be a \"champion\" even if she finishes the race in '2nd' place\"\"\")"
      ],
      "execution_count": null,
      "outputs": [
        {
          "output_type": "stream",
          "text": [
            "She will be a \"champion\" even if she finishes the race in '2nd' place\n"
          ],
          "name": "stdout"
        }
      ]
    }
  ]
}