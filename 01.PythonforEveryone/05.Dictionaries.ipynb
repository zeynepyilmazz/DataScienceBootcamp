{
  "nbformat": 4,
  "nbformat_minor": 0,
  "metadata": {
    "colab": {
      "name": "05.Dictionaries.ipynb",
      "provenance": [],
      "collapsed_sections": [],
      "include_colab_link": true
    },
    "kernelspec": {
      "display_name": "Python 3",
      "language": "python",
      "name": "python3"
    },
    "language_info": {
      "codemirror_mode": {
        "name": "ipython",
        "version": 3
      },
      "file_extension": ".py",
      "mimetype": "text/x-python",
      "name": "python",
      "nbconvert_exporter": "python",
      "pygments_lexer": "ipython3",
      "version": "3.8.7"
    }
  },
  "cells": [
    {
      "cell_type": "markdown",
      "metadata": {
        "id": "view-in-github",
        "colab_type": "text"
      },
      "source": [
        "<a href=\"https://colab.research.google.com/github/zeynepyilmazz/DataScienceBootcamp/blob/main/01.PythonforEveryone/05.Dictionaries.ipynb\" target=\"_parent\"><img src=\"https://colab.research.google.com/assets/colab-badge.svg\" alt=\"Open In Colab\"/></a>"
      ]
    },
    {
      "cell_type": "markdown",
      "metadata": {
        "id": "LIkO2709RTIu"
      },
      "source": [
        "**(1)** Create a dictionary with 7 days. Ask the user to choose 2 different days by listing the (e.g. \"12\" for Monday and Tuesday). Delete the user-selected days from the dictionary and print the remaining 5 days on the screen."
      ]
    },
    {
      "cell_type": "code",
      "metadata": {
        "id": "6d6klQLrTOp9",
        "colab": {
          "base_uri": "https://localhost:8080/"
        },
        "outputId": "59fa8bf9-9e0a-4a1c-80c1-99bed332982d"
      },
      "source": [
        "days = {1: 'Monday', 2: 'Tuesday' , 3: 'Wednesday', 4: 'Thursday', 5:'Friday' , 6: 'Saturday', 7: 'Sunday'}\n",
        "bilgi = input(\"Write two days to delete :\")\n",
        "del days[int(bilgi[0])]\n",
        "del days[int(bilgi[1])]\n",
        "print(days)\n"
      ],
      "execution_count": null,
      "outputs": [
        {
          "output_type": "stream",
          "text": [
            "Write two days to delete :12\n",
            "{3: 'Wednesday', 4: 'Thursday', 5: 'Friday', 6: 'Saturday', 7: 'Sunday'}\n"
          ],
          "name": "stdout"
        }
      ]
    },
    {
      "cell_type": "markdown",
      "metadata": {
        "id": "mF2PMX0sTOyv"
      },
      "source": [
        "**(2)** Create a dictionary with the following personnel. Use names as keys.\n",
        "\n",
        "|Name|Age|Sex|\n",
        "|-|-|-|\n",
        "|John|25|Male|\n",
        "|Lisa|28|Female|\n",
        "|Linda|32|Female|\n",
        "|Michael|41|Male|"
      ]
    },
    {
      "cell_type": "code",
      "metadata": {
        "id": "tkZDe8tfTO8x",
        "colab": {
          "base_uri": "https://localhost:8080/"
        },
        "outputId": "f092a399-7429-428a-a641-7d6c2637870d"
      },
      "source": [
        "information = { 'John' : { 'age' : 25 ,'sex' : 'male'},\n",
        "                'Lisa' : { 'age' : 28 ,'sex' : 'female'},\n",
        "                'Linda' : { 'age' : 32 ,'sex' : 'female'},\n",
        "                'Michael' : { 'age' : 41 ,'sex' : 'male'}\n",
        "               }\n",
        "print(information)"
      ],
      "execution_count": null,
      "outputs": [
        {
          "output_type": "stream",
          "text": [
            "{'John': {'age': 25, 'sex': 'male'}, 'Lisa': {'age': 28, 'sex': 'female'}, 'Linda': {'age': 32, 'sex': 'female'}, 'Michael': {'age': 41, 'sex': 'male'}}\n"
          ],
          "name": "stdout"
        }
      ]
    },
    {
      "cell_type": "markdown",
      "metadata": {
        "id": "Aj8f-84ETPF6"
      },
      "source": [
        "**(3)** Add child information to Michael and Linda. Michael has two children (Karen (age : 12, female) and Greg (age : 7, male) and Linda has one child (Susan (age: 6, female))"
      ]
    },
    {
      "cell_type": "code",
      "metadata": {
        "id": "c7gQOZqXTPfT",
        "colab": {
          "base_uri": "https://localhost:8080/"
        },
        "outputId": "4df75eed-437e-4d59-b54b-2a32a7cecf0e"
      },
      "source": [
        "information['Michael'].update({ 'çocuk' : { 'Karen' : {'age' : 12 , 'sex' : 'female' } , 'Greg' : { 'age' : 7 , 'sex' : 'male'} } })\n",
        "print(information)"
      ],
      "execution_count": null,
      "outputs": [
        {
          "output_type": "stream",
          "text": [
            "{'John': {'age': 25, 'sex': 'male'}, 'Lisa': {'age': 28, 'sex': 'female'}, 'Linda': {'age': 32, 'sex': 'female'}, 'Michael': {'age': 41, 'sex': 'male', 'çocuk': {'Karen': {'age': 12, 'sex': 'female'}, 'Greg': {'age': 7, 'sex': 'male'}}}}\n"
          ],
          "name": "stdout"
        }
      ]
    },
    {
      "cell_type": "code",
      "metadata": {
        "id": "fF2fn0RkzAID",
        "colab": {
          "base_uri": "https://localhost:8080/"
        },
        "outputId": "a4f42cb8-b83b-4d42-a606-84a757f3c16f"
      },
      "source": [
        "information['Linda'].update({ 'çocuk' : { 'Susan' : {'age' : 6 , 'sex' : 'female' } } })\n",
        "\n",
        "print(information)"
      ],
      "execution_count": null,
      "outputs": [
        {
          "output_type": "stream",
          "text": [
            "{'John': {'age': 25, 'sex': 'male'}, 'Lisa': {'age': 28, 'sex': 'female'}, 'Linda': {'age': 32, 'sex': 'female', 'çocuk': {'Susan': {'age': 6, 'sex': 'female'}}}, 'Michael': {'age': 41, 'sex': 'male', 'çocuk': {'Karen': {'age': 12, 'sex': 'female'}, 'Greg': {'age': 7, 'sex': 'male'}}}}\n"
          ],
          "name": "stdout"
        }
      ]
    },
    {
      "cell_type": "markdown",
      "metadata": {
        "id": "pLa1MakOTPtX"
      },
      "source": [
        "**(4)** Print the names of Michael's children in a list."
      ]
    },
    {
      "cell_type": "code",
      "metadata": {
        "id": "WyJ3XNb_TVZs",
        "colab": {
          "base_uri": "https://localhost:8080/"
        },
        "outputId": "97b0424b-b1fe-4bb2-d8b3-771d4599f37e"
      },
      "source": [
        "print(list(information['Michael']['çocuk'].keys()))"
      ],
      "execution_count": null,
      "outputs": [
        {
          "output_type": "stream",
          "text": [
            "['Karen', 'Greg']\n"
          ],
          "name": "stdout"
        }
      ]
    }
  ]
}