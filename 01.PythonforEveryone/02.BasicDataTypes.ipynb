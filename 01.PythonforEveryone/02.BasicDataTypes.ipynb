{
  "nbformat": 4,
  "nbformat_minor": 0,
  "metadata": {
    "colab": {
      "name": "02.BasicDataTypes.ipynb",
      "provenance": [],
      "collapsed_sections": [],
      "authorship_tag": "ABX9TyMG9RubyffYjPwCNS1nXH5k",
      "include_colab_link": true
    },
    "kernelspec": {
      "name": "python3",
      "display_name": "Python 3"
    }
  },
  "cells": [
    {
      "cell_type": "markdown",
      "metadata": {
        "id": "view-in-github",
        "colab_type": "text"
      },
      "source": [
        "<a href=\"https://colab.research.google.com/github/zeynepyilmazz/DataScienceBootcamp/blob/main/01.PythonforEveryone/02.BasicDataTypes.ipynb\" target=\"_parent\"><img src=\"https://colab.research.google.com/assets/colab-badge.svg\" alt=\"Open In Colab\"/></a>"
      ]
    },
    {
      "cell_type": "markdown",
      "metadata": {
        "id": "e86qOGzBm36f"
      },
      "source": [
        "(1) Suppose you invested in Bitcoin at the end of 2017 when Bitcoin gained a lot of value. What would be your money at the end of a week if you had invested $1000 with an average daily increase of 12% ? You can solve the problem using Python.\n"
      ]
    },
    {
      "cell_type": "code",
      "metadata": {
        "id": "VFVelvDBMCL5",
        "colab": {
          "base_uri": "https://localhost:8080/"
        },
        "outputId": "c8646e36-37e1-4d47-fdd8-8c519a67a54d"
      },
      "source": [
        "#döngü kullanarak daha kolay hesaplama yapılabilir.\n",
        "para = 1000\n",
        "faiz = para\n",
        "faiz_oranı = 0.12\n",
        "faiz = faiz + faiz * faiz_oranı \n",
        "faiz = faiz + faiz * faiz_oranı \n",
        "faiz = faiz + faiz * faiz_oranı \n",
        "faiz = faiz + faiz * faiz_oranı \n",
        "faiz = faiz + faiz * faiz_oranı \n",
        "faiz = faiz + faiz * faiz_oranı \n",
        "faiz = faiz + faiz * faiz_oranı\n",
        "print(faiz)"
      ],
      "execution_count": null,
      "outputs": [
        {
          "output_type": "stream",
          "text": [
            "2210.6814074060803\n"
          ],
          "name": "stdout"
        }
      ]
    },
    {
      "cell_type": "markdown",
      "metadata": {
        "id": "GCNENqManBCY"
      },
      "source": [
        "(2) Print the text in quotes with Python. However, you must get the numbers from variables using .format() notation.\n",
        "Because the text is long, you might consider writing in two lines:\n",
        "\n",
        "    \"When we buy bitcoin with 1000 USD at the beginning of the week, we would earn 1210.68 USD at the end of the week, with an average gain of 12\\%.\""
      ]
    },
    {
      "cell_type": "code",
      "metadata": {
        "colab": {
          "base_uri": "https://localhost:8080/"
        },
        "id": "qKKS6LkHJbSg",
        "outputId": "554acbec-f0e9-4e23-d13c-06efd0d25f56"
      },
      "source": [
        "print(\"\"\"When we buy bitcoin with {} USD at the beginning of the week, we would earn {:.2f}  USD at the end of the week, with an average gain of {:.0f}%\"\"\".format(para,faiz - para,faiz_oranı * 100))\n"
      ],
      "execution_count": null,
      "outputs": [
        {
          "output_type": "stream",
          "text": [
            "When we buy bitcoin with 1000 USD at the beginning of the week, we would earn 1210.68  USD at the end of the week, with an average gain of 12%\n"
          ],
          "name": "stdout"
        }
      ]
    },
    {
      "cell_type": "markdown",
      "metadata": {
        "id": "WXu9woSlnGFF"
      },
      "source": [
        "(3) Get the temperature in Fahrenheit from user and write a code to convert it to Celcius. For conversion, you can use this formula: C = (5/9) * (F - 32)"
      ]
    },
    {
      "cell_type": "code",
      "metadata": {
        "id": "d0y6gTBONVBc",
        "colab": {
          "base_uri": "https://localhost:8080/"
        },
        "outputId": "b62f0da9-201e-4eeb-df2b-b1ddbf867092"
      },
      "source": [
        "fahrenheit = int(input(\"Enter the temperature in Fahrenheit: \"))\n",
        "celcius = (5 / 9)*(fahrenheit - 32)\n",
        "print(\"Temperature (C) : {:.2f}\".format(celcius))"
      ],
      "execution_count": null,
      "outputs": [
        {
          "output_type": "stream",
          "text": [
            "Enter the temperature in Fahrenheit: 26\n",
            "Temperature (C) : -3.33\n"
          ],
          "name": "stdout"
        }
      ]
    },
    {
      "cell_type": "markdown",
      "metadata": {
        "id": "BKF7iSGUQRaC"
      },
      "source": [
        "(4) Get a three digit number the from user and calculate the sum of the digits in the integer."
      ]
    },
    {
      "cell_type": "code",
      "metadata": {
        "id": "tnRC3UBROgMU",
        "colab": {
          "base_uri": "https://localhost:8080/"
        },
        "outputId": "880e1b84-dd8a-4e60-d445-58853f306367"
      },
      "source": [
        "num = (input(\"3 digit number :\"))\n",
        "sum = (int(num[0]) + int(num[1]) + int(num[2]))\n",
        "print(\"The sum of digits in the number is {}\".format(sum))\n"
      ],
      "execution_count": null,
      "outputs": [
        {
          "output_type": "stream",
          "text": [
            "3 digit number :365\n",
            "The sum of digits in the number is 14\n"
          ],
          "name": "stdout"
        }
      ]
    },
    {
      "cell_type": "markdown",
      "metadata": {
        "id": "ghRJX4pFQfli"
      },
      "source": [
        "(5) Write some code to calculate the hypotenuse of a right angled triangle. Get the side lengths from the user."
      ]
    },
    {
      "cell_type": "code",
      "metadata": {
        "id": "AhCI42MpQELP",
        "colab": {
          "base_uri": "https://localhost:8080/"
        },
        "outputId": "9d933f43-884d-4d2f-9a97-8890508b8159"
      },
      "source": [
        "side_1 = int(input(\"Input length of first side :\"))\n",
        "side_2 = int(input(\"Input length of second side :\"))\n",
        "hipotenüs = ((side_1 ** 2) + (side_2 ** 2)) ** 0.5\n",
        "print(\"The length of the hypotenuse is {:.2f}\".format(hipotenüs))"
      ],
      "execution_count": null,
      "outputs": [
        {
          "output_type": "stream",
          "text": [
            "Input length of first side :3\n",
            "Input length of second side :4\n",
            "The length of the hypotenuse is 5.00\n"
          ],
          "name": "stdout"
        }
      ]
    }
  ]
}