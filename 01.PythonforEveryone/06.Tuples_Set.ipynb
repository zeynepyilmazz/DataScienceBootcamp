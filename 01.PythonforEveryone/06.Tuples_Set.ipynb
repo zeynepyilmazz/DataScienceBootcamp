{
  "nbformat": 4,
  "nbformat_minor": 0,
  "metadata": {
    "colab": {
      "name": "06.Tuples_Set.ipynb",
      "provenance": [],
      "collapsed_sections": [],
      "include_colab_link": true
    },
    "kernelspec": {
      "display_name": "Python 3",
      "language": "python",
      "name": "python3"
    },
    "language_info": {
      "codemirror_mode": {
        "name": "ipython",
        "version": 3
      },
      "file_extension": ".py",
      "mimetype": "text/x-python",
      "name": "python",
      "nbconvert_exporter": "python",
      "pygments_lexer": "ipython3",
      "version": "3.8.7"
    }
  },
  "cells": [
    {
      "cell_type": "markdown",
      "metadata": {
        "id": "view-in-github",
        "colab_type": "text"
      },
      "source": [
        "<a href=\"https://colab.research.google.com/github/zeynepyilmazz/DataScienceBootcamp/blob/main/01.PythonforEveryone/06.Tuples_Set.ipynb\" target=\"_parent\"><img src=\"https://colab.research.google.com/assets/colab-badge.svg\" alt=\"Open In Colab\"/></a>"
      ]
    },
    {
      "cell_type": "markdown",
      "metadata": {
        "id": "r0G2zgasTlVF"
      },
      "source": [
        "**(1)** Create a tuple named \"week\" containing weekdays."
      ]
    },
    {
      "cell_type": "code",
      "metadata": {
        "id": "rh5eYY4nUZi2",
        "colab": {
          "base_uri": "https://localhost:8080/"
        },
        "outputId": "14c0c8ef-6ce0-48c9-8504-194af165bf03"
      },
      "source": [
        "week = ('Monday', 'Sunday', 'Wednesday', 'Thursday', 'Friday', 'Saturday', 'Sunday')\n",
        "print(week)"
      ],
      "execution_count": null,
      "outputs": [
        {
          "output_type": "stream",
          "text": [
            "('Monday', 'Sunday', 'Wednesday', 'Thursday', 'Friday', 'Saturday', 'Sunday')\n"
          ],
          "name": "stdout"
        }
      ]
    },
    {
      "cell_type": "markdown",
      "metadata": {
        "id": "sd-mr_0nUZto"
      },
      "source": [
        "**(2)** Create a set named \"fruits\" containing followings: apple, mango, orange"
      ]
    },
    {
      "cell_type": "code",
      "metadata": {
        "id": "ihcnLIGiUZ4L",
        "colab": {
          "base_uri": "https://localhost:8080/"
        },
        "outputId": "e5590fd7-112b-4d8b-aa75-02d241eca60f"
      },
      "source": [
        "fruits = {'mango' , 'apple' , 'orange'}\n",
        "print(fruits)\n"
      ],
      "execution_count": null,
      "outputs": [
        {
          "output_type": "stream",
          "text": [
            "{'mango', 'orange', 'apple'}\n"
          ],
          "name": "stdout"
        }
      ]
    },
    {
      "cell_type": "markdown",
      "metadata": {
        "id": "gE05XoiQUaBR"
      },
      "source": [
        "**(3)** Create a new set named \"new_fruits\" containing followings: cherry, peach, apple, mango"
      ]
    },
    {
      "cell_type": "code",
      "metadata": {
        "id": "pNk1p3TyUaLh",
        "colab": {
          "base_uri": "https://localhost:8080/"
        },
        "outputId": "a5612862-c787-4580-af61-39095fb49bb7"
      },
      "source": [
        "new_fruits = {'cherry' , 'peach' , 'apple' , 'mango'}\n",
        "print(new_fruits)"
      ],
      "execution_count": null,
      "outputs": [
        {
          "output_type": "stream",
          "text": [
            "{'peach', 'apple', 'mango', 'cherry'}\n"
          ],
          "name": "stdout"
        }
      ]
    },
    {
      "cell_type": "markdown",
      "metadata": {
        "id": "3cHFmE57UaV0"
      },
      "source": [
        "**(4)** Find the fruits which are in new_fruits but not in fruits."
      ]
    },
    {
      "cell_type": "code",
      "metadata": {
        "id": "mwzjb1LrUadI",
        "colab": {
          "base_uri": "https://localhost:8080/"
        },
        "outputId": "77f75bd6-8b54-4ae1-ed12-26db0c811b2d"
      },
      "source": [
        "print(\"Only in new fruits\",new_fruits.difference(fruits))"
      ],
      "execution_count": null,
      "outputs": [
        {
          "output_type": "stream",
          "text": [
            "Only in new fruits {'peach', 'cherry'}\n"
          ],
          "name": "stdout"
        }
      ]
    },
    {
      "cell_type": "markdown",
      "metadata": {
        "id": "ZISIgX2SUamQ"
      },
      "source": [
        "**(5)** Find the fruits which are in both new_fruits and fruits."
      ]
    },
    {
      "cell_type": "code",
      "metadata": {
        "id": "ruwPEYJAUasL",
        "colab": {
          "base_uri": "https://localhost:8080/"
        },
        "outputId": "4b16eac7-14b1-4974-93fa-3a2f74148975"
      },
      "source": [
        "print(\"Both in new fruits and fruits\" , new_fruits.intersection(fruits))"
      ],
      "execution_count": null,
      "outputs": [
        {
          "output_type": "stream",
          "text": [
            "Both in new fruits and fruits {'mango', 'apple'}\n"
          ],
          "name": "stdout"
        }
      ]
    }
  ]
}