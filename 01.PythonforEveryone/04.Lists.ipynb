{
  "nbformat": 4,
  "nbformat_minor": 0,
  "metadata": {
    "colab": {
      "name": "04.Lists.ipynb",
      "provenance": [],
      "collapsed_sections": [],
      "authorship_tag": "ABX9TyN+voUHwCGwsiUBbyJES3bz",
      "include_colab_link": true
    },
    "kernelspec": {
      "name": "python3",
      "display_name": "Python 3"
    }
  },
  "cells": [
    {
      "cell_type": "markdown",
      "metadata": {
        "id": "view-in-github",
        "colab_type": "text"
      },
      "source": [
        "<a href=\"https://colab.research.google.com/github/zeynepyilmazz/DataScienceBootcamp/blob/main/01.PythonforEveryone/04.Lists.ipynb\" target=\"_parent\"><img src=\"https://colab.research.google.com/assets/colab-badge.svg\" alt=\"Open In Colab\"/></a>"
      ]
    },
    {
      "cell_type": "markdown",
      "metadata": {
        "id": "QsWki9QkF54N"
      },
      "source": [
        "**1.** Write a code to compute the sum of the two lowest numbers and the two highest numbers in the following list.\n",
        "\n",
        "        my_list = [34, 56, 76, 45, 2, 12, 67, 98, 37, 54, 66]"
      ]
    },
    {
      "cell_type": "code",
      "metadata": {
        "colab": {
          "base_uri": "https://localhost:8080/"
        },
        "id": "uTscZNQPF3dY",
        "outputId": "7ecdb6b4-18a7-4c3b-f4e2-a7334db41eb1"
      },
      "source": [
        "my_list = [34, 56, 76, 45, 2, 12, 67, 98, 37, 54, 66]\n",
        "my_list.sort()\n",
        "toplam = my_list[0] + my_list[1] + my_list[-2] + my_list[-1]\n",
        "print(toplam)"
      ],
      "execution_count": null,
      "outputs": [
        {
          "output_type": "stream",
          "text": [
            "188\n"
          ],
          "name": "stdout"
        }
      ]
    },
    {
      "cell_type": "markdown",
      "metadata": {
        "id": "A3-8myknHb70"
      },
      "source": [
        "**2.** The following two lists contain student names and scores. Write a code that gets the name from the user and prints the score of that student.\n",
        "\n",
        "        names = [\"David\", \"Michael\", \"John\", \"James\", \"Greg\", \"Mark\", \n",
        "                 \"William\", \"Richard\", \"Thomas\", \"Steven\", \n",
        "                 \"Mary\", \"Susan\", \"Maria\", \"Karen\", \"Lisa\", \"Linda\", \n",
        "                 \"Donna\", \"Patricia\", \"Debra\", \"Eric\"]\n",
        "\n",
        "        scores = [95, 87, 78, 86, 68, 94, 76, 97, 56, 98, 76, \n",
        "                  87, 79, 90, 73, 93, 82, 69, 97, 98]\n"
      ]
    },
    {
      "cell_type": "code",
      "metadata": {
        "colab": {
          "base_uri": "https://localhost:8080/"
        },
        "id": "xraDqv5IHcHR",
        "outputId": "d58546b0-833c-4d2e-9b38-947f9529f977"
      },
      "source": [
        "names = [\"David\", \"Michael\", \"John\", \"James\", \"Greg\", \"Mark\", \n",
        "             \"William\", \"Richard\", \"Thomas\", \"Steven\", \n",
        "             \"Mary\", \"Susan\", \"Maria\", \"Karen\", \"Lisa\", \"Linda\", \n",
        "             \"Donna\", \"Patricia\", \"Debra\", \"Eric\"]\n",
        "\n",
        "scores = [95, 87, 78, 86, 68, 94, 76, 97, 56, 98, 76, \n",
        "              87, 79, 90, 73, 93, 82, 69, 97, 98]\n",
        "\n",
        "name = input(\"Write the student name :\")\n",
        "score = scores[names.index(name)]\n",
        "print(\"Score of {} is {}\".format(name,score))"
      ],
      "execution_count": null,
      "outputs": [
        {
          "output_type": "stream",
          "text": [
            "Write the student name :Debra\n",
            "Score of Debra is 97\n"
          ],
          "name": "stdout"
        }
      ]
    },
    {
      "cell_type": "markdown",
      "metadata": {
        "id": "2HdK3SpzJkKT"
      },
      "source": [
        "**3.** By using the two lists above, what is the maximum score and how many students got that score?"
      ]
    },
    {
      "cell_type": "code",
      "metadata": {
        "colab": {
          "base_uri": "https://localhost:8080/"
        },
        "id": "TpO_hgwwGUP4",
        "outputId": "b762fde9-1ba6-4805-a632-ec918be9afea"
      },
      "source": [
        "scores.sort(reverse=True)\n",
        "print(\"Max score : {}\".format(scores[0]))\n",
        "print(\"Number of student with max score : {}\".format(scores.count(scores[0])))\n"
      ],
      "execution_count": null,
      "outputs": [
        {
          "output_type": "stream",
          "text": [
            "Max score : 98\n",
            "Number of student with max score : 2\n"
          ],
          "name": "stdout"
        }
      ]
    },
    {
      "cell_type": "markdown",
      "metadata": {
        "id": "fgdCbc2RNZWU"
      },
      "source": [
        "**4.** We can confuse about how many days a month is. Create a list to handle it. You will have month names and day counts in your list together as a nested list."
      ]
    },
    {
      "cell_type": "code",
      "metadata": {
        "colab": {
          "base_uri": "https://localhost:8080/"
        },
        "id": "_4u9tcowNc_Z",
        "outputId": "68009d34-ed9e-450a-d187-44e73dbf61ad"
      },
      "source": [
        "aylar =[['January', 31], ['February', 28], ['March', 31], ['April', 30], ['May', 31], ['June', 30], ['July', 31], ['August', 31], ['September', 30], ['October', 31], ['November', 30], ['December', 31]]\n",
        "print(aylar)"
      ],
      "execution_count": null,
      "outputs": [
        {
          "output_type": "stream",
          "text": [
            "[['January', 31], ['February', 28], ['March', 31], ['April', 30], ['May', 31], ['June', 30], ['July', 31], ['August', 31], ['September', 30], ['October', 31], ['November', 30], ['December', 31]]\n"
          ],
          "name": "stdout"
        }
      ]
    },
    {
      "cell_type": "markdown",
      "metadata": {
        "id": "zvoNGqYtN0Ux"
      },
      "source": [
        "**5.** Now create lists of months for each season. Get month names and day counts from the list that you create before with slicing. Name the lists with seasons."
      ]
    },
    {
      "cell_type": "code",
      "metadata": {
        "id": "xA3p_jnCN3a4"
      },
      "source": [
        "sonbahar = [['September', 30], ['October', 31], ['November', 30]]\n",
        "kış = [['December', 31], ['January', 31], ['February', 28]]\n",
        "ilkbahar = [['March', 31], ['April', 30], ['May', 31]]\n",
        "yaz = [['June', 30], ['July', 31], ['August', 31]]"
      ],
      "execution_count": null,
      "outputs": []
    },
    {
      "cell_type": "markdown",
      "metadata": {
        "id": "6ySoBd-VOm0a"
      },
      "source": [
        "**6.** Finally, from the list in the previous question, calculate how many days the summer season lasts."
      ]
    },
    {
      "cell_type": "code",
      "metadata": {
        "colab": {
          "base_uri": "https://localhost:8080/"
        },
        "id": "r7qQYBtmOogo",
        "outputId": "696a3060-3338-4238-8abe-2e316bba4cb1"
      },
      "source": [
        "gün = yaz[0][1] + yaz[1][1] + yaz[2][1]\n",
        "print(\"Summer lasts {} days\".format(gün))"
      ],
      "execution_count": null,
      "outputs": [
        {
          "output_type": "stream",
          "text": [
            "Summer lasts 92 days\n"
          ],
          "name": "stdout"
        }
      ]
    }
  ]
}