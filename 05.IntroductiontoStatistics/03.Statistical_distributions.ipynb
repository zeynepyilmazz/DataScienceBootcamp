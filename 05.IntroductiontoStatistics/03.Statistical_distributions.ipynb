{
  "nbformat": 4,
  "nbformat_minor": 0,
  "metadata": {
    "colab": {
      "name": "03.Statistical_distributions.ipynb",
      "provenance": [],
      "collapsed_sections": [],
      "include_colab_link": true
    },
    "kernelspec": {
      "display_name": "Python 3",
      "language": "python",
      "name": "python3"
    },
    "language_info": {
      "codemirror_mode": {
        "name": "ipython",
        "version": 3
      },
      "file_extension": ".py",
      "mimetype": "text/x-python",
      "name": "python",
      "nbconvert_exporter": "python",
      "pygments_lexer": "ipython3",
      "version": "3.8.7"
    }
  },
  "cells": [
    {
      "cell_type": "markdown",
      "metadata": {
        "id": "view-in-github",
        "colab_type": "text"
      },
      "source": [
        "<a href=\"https://colab.research.google.com/github/zeynepyilmazz/DataScienceBootcamp/blob/main/05.IntroductiontoStatistics/03.Statistical_distributions.ipynb\" target=\"_parent\"><img src=\"https://colab.research.google.com/assets/colab-badge.svg\" alt=\"Open In Colab\"/></a>"
      ]
    },
    {
      "cell_type": "code",
      "metadata": {
        "id": "muphwN0xD1XF"
      },
      "source": [
        "import numpy as np\n",
        "import matplotlib.pyplot as plt\n",
        "import pandas as pd"
      ],
      "execution_count": null,
      "outputs": []
    },
    {
      "cell_type": "markdown",
      "metadata": {
        "id": "WZKNyc1bqZ9p"
      },
      "source": [
        "**(1)** By using distribution=np.random.name_distribution([],[]), write the name of distribution of your choice in place of `name_distribution`and fill out the bracket with your choice again. Then please, \n",
        "\n",
        "**(a)** Draw the histogram and interpret"
      ]
    },
    {
      "cell_type": "code",
      "metadata": {
        "id": "c0guZzMPqZ9p",
        "colab": {
          "base_uri": "https://localhost:8080/",
          "height": 408
        },
        "outputId": "edb4ed3b-6afb-4651-a7e8-b87f916a1c66"
      },
      "source": [
        "normal_data = np.random.normal(10,8,1000)\n",
        "print('normal_data  mean : {}'.format(np.mean(normal_data )))\n",
        "print('normal_data  median : {}'.format(np.median(normal_data )))\n",
        "plt.figure(figsize = (16,6))\n",
        "plt.subplot(1,2,1)\n",
        "plt.hist(normal_data , bins = 30)\n",
        "plt.axvline(np.mean(normal_data ) , linestyle = '--' , color = 'white')\n",
        "plt.axvline(np.mean(normal_data ) + 3*np.std(normal_data) , linestyle = ':' , color = 'red')\n",
        "plt.axvline(np.mean(normal_data ) - 3*np.std(normal_data) , linestyle = ':' , color = 'red')\n",
        "plt.show()\n"
      ],
      "execution_count": null,
      "outputs": [
        {
          "output_type": "stream",
          "text": [
            "normal_data  mean : 9.733156452456889\n",
            "normal_data  median : 9.62094513918877\n"
          ],
          "name": "stdout"
        },
        {
          "output_type": "display_data",
          "data": {
            "image/png": "[encoded data removed]",
            "text/plain": [
              "<Figure size 1152x432 with 1 Axes>"
            ]
          },
          "metadata": {
            "tags": [],
            "needs_background": "light"
          }
        }
      ]
    },
    {
      "cell_type": "markdown",
      "metadata": {
        "id": "I8uiMPRKGhns"
      },
      "source": [
        "Dağılım türü olarak normal dağılımı seçip ortalaması 10 standart sapması 8 olan 1000 sayıyı data değişkenine atadım. data değişkeninin histogramını çizdirdiğimde çan eğrisine benzer bir şekil elde ettim.Normal dağılımda ortalama ve medyan değerleri birbirine çok yakındır. Çıktı olarak ortalama ve medyan değerlerine baktığımda data değişkeni için birbirine çok yakın olduğunu söyleyebilirim. Ortalamadan 3 standart sapma sağa ve sola gidildikçe verinin %99.7'sini kapsarız.\n"
      ]
    },
    {
      "cell_type": "markdown",
      "metadata": {
        "id": "aOTq_1NbqZ9q"
      },
      "source": [
        "**(b)** Draw Q-Q plot and interpret"
      ]
    },
    {
      "cell_type": "code",
      "metadata": {
        "colab": {
          "base_uri": "https://localhost:8080/",
          "height": 350
        },
        "id": "u0IiiXxeDxl-",
        "outputId": "de8763f2-df3d-4913-cd1e-0c5ac1dbe9bd"
      },
      "source": [
        "from scipy import stats\n",
        "plt.figure(figsize = (10,5))\n",
        "res = stats.probplot(normal_data,plot=plt)\n",
        "plt.show()"
      ],
      "execution_count": null,
      "outputs": [
        {
          "output_type": "display_data",
          "data": {
            "image/png": "[encoded data removed]",
            "text/plain": [
              "<Figure size 720x360 with 1 Axes>"
            ]
          },
          "metadata": {
            "tags": [],
            "needs_background": "light"
          }
        }
      ]
    },
    {
      "cell_type": "markdown",
      "metadata": {
        "id": "MoOqW9Q7IykE"
      },
      "source": [
        "Grafiğe baktığımızda verimizin normal dağılıma sahip olduğunu söyleyebiliriz."
      ]
    },
    {
      "cell_type": "markdown",
      "metadata": {
        "id": "eUwxJUmPqZ9q"
      },
      "source": [
        "**(2)** Get the google stock quotes from 2015-2017 using https://finance.yahoo.com/. Using this data, calculate the stock return with the following formula:\n",
        "\n",
        "$$P_t-P_{t-1}/P_{t-1}$$\n",
        "\n",
        "where $P_t$ represents the stock price at time t and $P_{t-1}$ denotes the stock price at time t-1. What do you think about the return distribution? \n",
        "\n",
        "**Note:** Data is retrieved from https://finance.yahoo.com/ as follows. After clicking the given address, type the name of the stock you want to search in the search section (eg google). Click on the search result below to go to the relevant stock. When you get to the page with the relevant stock information, click the Historical Prices tab, select the relevant date range, then click Apply. Finally, click the Download Data button to download the data. Alternative you can use `yfinance` library"
      ]
    },
    {
      "cell_type": "code",
      "metadata": {
        "id": "9pJ2Y3vfqZ9q",
        "colab": {
          "base_uri": "https://localhost:8080/",
          "height": 419
        },
        "outputId": "dd9f50a9-514e-4582-b05a-76072dbb6fc3"
      },
      "source": [
        "df = pd.read_csv('GOOG.csv' , parse_dates=['Date'] , low_memory=False)\n",
        "df"
      ],
      "execution_count": null,
      "outputs": [
        {
          "output_type": "execute_result",
          "data": {
            "text/html": [
              "<div>\n",
              "<style scoped>\n",
              "    .dataframe tbody tr th:only-of-type {\n",
              "        vertical-align: middle;\n",
              "    }\n",
              "\n",
              "    .dataframe tbody tr th {\n",
              "        vertical-align: top;\n",
              "    }\n",
              "\n",
              "    .dataframe thead th {\n",
              "        text-align: right;\n",
              "    }\n",
              "</style>\n",
              "<table border=\"1\" class=\"dataframe\">\n",
              "  <thead>\n",
              "    <tr style=\"text-align: right;\">\n",
              "      <th></th>\n",
              "      <th>Date</th>\n",
              "      <th>Open</th>\n",
              "      <th>High</th>\n",
              "      <th>Low</th>\n",
              "      <th>Close</th>\n",
              "      <th>Adj Close</th>\n",
              "      <th>Volume</th>\n",
              "    </tr>\n",
              "  </thead>\n",
              "  <tbody>\n",
              "    <tr>\n",
              "      <th>0</th>\n",
              "      <td>2015-01-02</td>\n",
              "      <td>527.561584</td>\n",
              "      <td>529.815369</td>\n",
              "      <td>522.665039</td>\n",
              "      <td>523.373108</td>\n",
              "      <td>523.373108</td>\n",
              "      <td>1447563</td>\n",
              "    </tr>\n",
              "    <tr>\n",
              "      <th>1</th>\n",
              "      <td>2015-01-05</td>\n",
              "      <td>521.827332</td>\n",
              "      <td>522.894409</td>\n",
              "      <td>511.655243</td>\n",
              "      <td>512.463013</td>\n",
              "      <td>512.463013</td>\n",
              "      <td>2059840</td>\n",
              "    </tr>\n",
              "    <tr>\n",
              "      <th>2</th>\n",
              "      <td>2015-01-06</td>\n",
              "      <td>513.589966</td>\n",
              "      <td>514.761719</td>\n",
              "      <td>499.678131</td>\n",
              "      <td>500.585632</td>\n",
              "      <td>500.585632</td>\n",
              "      <td>2899940</td>\n",
              "    </tr>\n",
              "    <tr>\n",
              "      <th>3</th>\n",
              "      <td>2015-01-07</td>\n",
              "      <td>505.611847</td>\n",
              "      <td>505.855164</td>\n",
              "      <td>498.281952</td>\n",
              "      <td>499.727997</td>\n",
              "      <td>499.727997</td>\n",
              "      <td>2065054</td>\n",
              "    </tr>\n",
              "    <tr>\n",
              "      <th>4</th>\n",
              "      <td>2015-01-08</td>\n",
              "      <td>496.626526</td>\n",
              "      <td>502.101471</td>\n",
              "      <td>489.655640</td>\n",
              "      <td>501.303680</td>\n",
              "      <td>501.303680</td>\n",
              "      <td>3353582</td>\n",
              "    </tr>\n",
              "    <tr>\n",
              "      <th>...</th>\n",
              "      <td>...</td>\n",
              "      <td>...</td>\n",
              "      <td>...</td>\n",
              "      <td>...</td>\n",
              "      <td>...</td>\n",
              "      <td>...</td>\n",
              "      <td>...</td>\n",
              "    </tr>\n",
              "    <tr>\n",
              "      <th>499</th>\n",
              "      <td>2016-12-23</td>\n",
              "      <td>790.900024</td>\n",
              "      <td>792.739990</td>\n",
              "      <td>787.280029</td>\n",
              "      <td>789.909973</td>\n",
              "      <td>789.909973</td>\n",
              "      <td>623400</td>\n",
              "    </tr>\n",
              "    <tr>\n",
              "      <th>500</th>\n",
              "      <td>2016-12-27</td>\n",
              "      <td>790.679993</td>\n",
              "      <td>797.859985</td>\n",
              "      <td>787.656982</td>\n",
              "      <td>791.549988</td>\n",
              "      <td>791.549988</td>\n",
              "      <td>789100</td>\n",
              "    </tr>\n",
              "    <tr>\n",
              "      <th>501</th>\n",
              "      <td>2016-12-28</td>\n",
              "      <td>793.700012</td>\n",
              "      <td>794.229980</td>\n",
              "      <td>783.200012</td>\n",
              "      <td>785.049988</td>\n",
              "      <td>785.049988</td>\n",
              "      <td>1153800</td>\n",
              "    </tr>\n",
              "    <tr>\n",
              "      <th>502</th>\n",
              "      <td>2016-12-29</td>\n",
              "      <td>783.330017</td>\n",
              "      <td>785.929993</td>\n",
              "      <td>778.919983</td>\n",
              "      <td>782.789978</td>\n",
              "      <td>782.789978</td>\n",
              "      <td>744300</td>\n",
              "    </tr>\n",
              "    <tr>\n",
              "      <th>503</th>\n",
              "      <td>2016-12-30</td>\n",
              "      <td>782.750000</td>\n",
              "      <td>782.780029</td>\n",
              "      <td>770.409973</td>\n",
              "      <td>771.820007</td>\n",
              "      <td>771.820007</td>\n",
              "      <td>1770000</td>\n",
              "    </tr>\n",
              "  </tbody>\n",
              "</table>\n",
              "<p>504 rows × 7 columns</p>\n",
              "</div>"
            ],
            "text/plain": [
              "          Date        Open        High  ...       Close   Adj Close   Volume\n",
              "0   2015-01-02  527.561584  529.815369  ...  523.373108  523.373108  1447563\n",
              "1   2015-01-05  521.827332  522.894409  ...  512.463013  512.463013  2059840\n",
              "2   2015-01-06  513.589966  514.761719  ...  500.585632  500.585632  2899940\n",
              "3   2015-01-07  505.611847  505.855164  ...  499.727997  499.727997  2065054\n",
              "4   2015-01-08  496.626526  502.101471  ...  501.303680  501.303680  3353582\n",
              "..         ...         ...         ...  ...         ...         ...      ...\n",
              "499 2016-12-23  790.900024  792.739990  ...  789.909973  789.909973   623400\n",
              "500 2016-12-27  790.679993  797.859985  ...  791.549988  791.549988   789100\n",
              "501 2016-12-28  793.700012  794.229980  ...  785.049988  785.049988  1153800\n",
              "502 2016-12-29  783.330017  785.929993  ...  782.789978  782.789978   744300\n",
              "503 2016-12-30  782.750000  782.780029  ...  771.820007  771.820007  1770000\n",
              "\n",
              "[504 rows x 7 columns]"
            ]
          },
          "metadata": {
            "tags": []
          },
          "execution_count": 5
        }
      ]
    },
    {
      "cell_type": "code",
      "metadata": {
        "id": "I1YgSRsW1or8",
        "colab": {
          "base_uri": "https://localhost:8080/",
          "height": 419
        },
        "outputId": "12b81855-72f1-4dbc-cce1-b6e929f4468f"
      },
      "source": [
        "df['stock_return'] = pd.Series(dtype='float64')\n",
        "display(df)"
      ],
      "execution_count": null,
      "outputs": [
        {
          "output_type": "display_data",
          "data": {
            "text/html": [
              "<div>\n",
              "<style scoped>\n",
              "    .dataframe tbody tr th:only-of-type {\n",
              "        vertical-align: middle;\n",
              "    }\n",
              "\n",
              "    .dataframe tbody tr th {\n",
              "        vertical-align: top;\n",
              "    }\n",
              "\n",
              "    .dataframe thead th {\n",
              "        text-align: right;\n",
              "    }\n",
              "</style>\n",
              "<table border=\"1\" class=\"dataframe\">\n",
              "  <thead>\n",
              "    <tr style=\"text-align: right;\">\n",
              "      <th></th>\n",
              "      <th>Date</th>\n",
              "      <th>Open</th>\n",
              "      <th>High</th>\n",
              "      <th>Low</th>\n",
              "      <th>Close</th>\n",
              "      <th>Adj Close</th>\n",
              "      <th>Volume</th>\n",
              "      <th>stock_return</th>\n",
              "    </tr>\n",
              "  </thead>\n",
              "  <tbody>\n",
              "    <tr>\n",
              "      <th>0</th>\n",
              "      <td>2015-01-02</td>\n",
              "      <td>527.561584</td>\n",
              "      <td>529.815369</td>\n",
              "      <td>522.665039</td>\n",
              "      <td>523.373108</td>\n",
              "      <td>523.373108</td>\n",
              "      <td>1447563</td>\n",
              "      <td>NaN</td>\n",
              "    </tr>\n",
              "    <tr>\n",
              "      <th>1</th>\n",
              "      <td>2015-01-05</td>\n",
              "      <td>521.827332</td>\n",
              "      <td>522.894409</td>\n",
              "      <td>511.655243</td>\n",
              "      <td>512.463013</td>\n",
              "      <td>512.463013</td>\n",
              "      <td>2059840</td>\n",
              "      <td>NaN</td>\n",
              "    </tr>\n",
              "    <tr>\n",
              "      <th>2</th>\n",
              "      <td>2015-01-06</td>\n",
              "      <td>513.589966</td>\n",
              "      <td>514.761719</td>\n",
              "      <td>499.678131</td>\n",
              "      <td>500.585632</td>\n",
              "      <td>500.585632</td>\n",
              "      <td>2899940</td>\n",
              "      <td>NaN</td>\n",
              "    </tr>\n",
              "    <tr>\n",
              "      <th>3</th>\n",
              "      <td>2015-01-07</td>\n",
              "      <td>505.611847</td>\n",
              "      <td>505.855164</td>\n",
              "      <td>498.281952</td>\n",
              "      <td>499.727997</td>\n",
              "      <td>499.727997</td>\n",
              "      <td>2065054</td>\n",
              "      <td>NaN</td>\n",
              "    </tr>\n",
              "    <tr>\n",
              "      <th>4</th>\n",
              "      <td>2015-01-08</td>\n",
              "      <td>496.626526</td>\n",
              "      <td>502.101471</td>\n",
              "      <td>489.655640</td>\n",
              "      <td>501.303680</td>\n",
              "      <td>501.303680</td>\n",
              "      <td>3353582</td>\n",
              "      <td>NaN</td>\n",
              "    </tr>\n",
              "    <tr>\n",
              "      <th>...</th>\n",
              "      <td>...</td>\n",
              "      <td>...</td>\n",
              "      <td>...</td>\n",
              "      <td>...</td>\n",
              "      <td>...</td>\n",
              "      <td>...</td>\n",
              "      <td>...</td>\n",
              "      <td>...</td>\n",
              "    </tr>\n",
              "    <tr>\n",
              "      <th>499</th>\n",
              "      <td>2016-12-23</td>\n",
              "      <td>790.900024</td>\n",
              "      <td>792.739990</td>\n",
              "      <td>787.280029</td>\n",
              "      <td>789.909973</td>\n",
              "      <td>789.909973</td>\n",
              "      <td>623400</td>\n",
              "      <td>NaN</td>\n",
              "    </tr>\n",
              "    <tr>\n",
              "      <th>500</th>\n",
              "      <td>2016-12-27</td>\n",
              "      <td>790.679993</td>\n",
              "      <td>797.859985</td>\n",
              "      <td>787.656982</td>\n",
              "      <td>791.549988</td>\n",
              "      <td>791.549988</td>\n",
              "      <td>789100</td>\n",
              "      <td>NaN</td>\n",
              "    </tr>\n",
              "    <tr>\n",
              "      <th>501</th>\n",
              "      <td>2016-12-28</td>\n",
              "      <td>793.700012</td>\n",
              "      <td>794.229980</td>\n",
              "      <td>783.200012</td>\n",
              "      <td>785.049988</td>\n",
              "      <td>785.049988</td>\n",
              "      <td>1153800</td>\n",
              "      <td>NaN</td>\n",
              "    </tr>\n",
              "    <tr>\n",
              "      <th>502</th>\n",
              "      <td>2016-12-29</td>\n",
              "      <td>783.330017</td>\n",
              "      <td>785.929993</td>\n",
              "      <td>778.919983</td>\n",
              "      <td>782.789978</td>\n",
              "      <td>782.789978</td>\n",
              "      <td>744300</td>\n",
              "      <td>NaN</td>\n",
              "    </tr>\n",
              "    <tr>\n",
              "      <th>503</th>\n",
              "      <td>2016-12-30</td>\n",
              "      <td>782.750000</td>\n",
              "      <td>782.780029</td>\n",
              "      <td>770.409973</td>\n",
              "      <td>771.820007</td>\n",
              "      <td>771.820007</td>\n",
              "      <td>1770000</td>\n",
              "      <td>NaN</td>\n",
              "    </tr>\n",
              "  </tbody>\n",
              "</table>\n",
              "<p>504 rows × 8 columns</p>\n",
              "</div>"
            ],
            "text/plain": [
              "          Date        Open        High  ...   Adj Close   Volume  stock_return\n",
              "0   2015-01-02  527.561584  529.815369  ...  523.373108  1447563           NaN\n",
              "1   2015-01-05  521.827332  522.894409  ...  512.463013  2059840           NaN\n",
              "2   2015-01-06  513.589966  514.761719  ...  500.585632  2899940           NaN\n",
              "3   2015-01-07  505.611847  505.855164  ...  499.727997  2065054           NaN\n",
              "4   2015-01-08  496.626526  502.101471  ...  501.303680  3353582           NaN\n",
              "..         ...         ...         ...  ...         ...      ...           ...\n",
              "499 2016-12-23  790.900024  792.739990  ...  789.909973   623400           NaN\n",
              "500 2016-12-27  790.679993  797.859985  ...  791.549988   789100           NaN\n",
              "501 2016-12-28  793.700012  794.229980  ...  785.049988  1153800           NaN\n",
              "502 2016-12-29  783.330017  785.929993  ...  782.789978   744300           NaN\n",
              "503 2016-12-30  782.750000  782.780029  ...  771.820007  1770000           NaN\n",
              "\n",
              "[504 rows x 8 columns]"
            ]
          },
          "metadata": {
            "tags": []
          }
        }
      ]
    },
    {
      "cell_type": "code",
      "metadata": {
        "id": "M5AezeJH3FqZ"
      },
      "source": [
        "for i in range(1,len(df)):\n",
        "  df.iloc[i , df.columns.get_loc('stock_return')] = (df['Open'].iloc[i] - df['Close'].iloc[i-1]) / df['Close'].iloc[i-1]"
      ],
      "execution_count": null,
      "outputs": []
    },
    {
      "cell_type": "code",
      "metadata": {
        "colab": {
          "base_uri": "https://localhost:8080/",
          "height": 425
        },
        "id": "_WbvlXvK6ztr",
        "outputId": "3eb25bb5-1122-4e84-a38b-8c6bc607da54"
      },
      "source": [
        "print('mean               : {}'.format(df['stock_return'].mean()))\n",
        "print('median             : {}'.format(df['stock_return'].median()))\n",
        "print('standard deviation : {}'.format(df['stock_return'].std()))\n",
        "plt.figure(figsize = (10,6))\n",
        "plt.hist(df['stock_return'] , bins = 100)\n",
        "plt.show()"
      ],
      "execution_count": null,
      "outputs": [
        {
          "output_type": "stream",
          "text": [
            "mean               : 0.0010237320400707612\n",
            "median             : 0.00035171142879731975\n",
            "standard deviation : 0.011477902729399142\n"
          ],
          "name": "stdout"
        },
        {
          "output_type": "display_data",
          "data": {
            "image/png": "[encoded data removed]",
            "text/plain": [
              "<Figure size 720x432 with 1 Axes>"
            ]
          },
          "metadata": {
            "tags": [],
            "needs_background": "light"
          }
        }
      ]
    },
    {
      "cell_type": "markdown",
      "metadata": {
        "id": "mWCT-KtVHPBQ"
      },
      "source": [
        "Histograma baktığımızda verinin normal dağılmış olabileceğini düşünürüz. Ama histogram kesin bir sonuç vermez."
      ]
    },
    {
      "cell_type": "code",
      "metadata": {
        "colab": {
          "base_uri": "https://localhost:8080/"
        },
        "id": "lWkZp4NK-Zm-",
        "outputId": "c8b93224-ae4b-44ad-a3dd-b4cdd70460b9"
      },
      "source": [
        "percent = (df[(df['stock_return'] > df['stock_return'].mean() - 3*df['stock_return'].std()) & \n",
        "          (df['stock_return'] < df['stock_return'].mean() + 3*df['stock_return'].std())]['stock_return'].count() * 100) / len(df['stock_return'])\n",
        "\n",
        "print('%{}'.format(percent))"
      ],
      "execution_count": null,
      "outputs": [
        {
          "output_type": "stream",
          "text": [
            "%97.81746031746032\n"
          ],
          "name": "stdout"
        }
      ]
    },
    {
      "cell_type": "markdown",
      "metadata": {
        "id": "mTprqWZTBNQm"
      },
      "source": [
        "Normal dağılımda ortalamadan 3 standart sapma sağa ve sola gittiğimizde verilerin %99.99'unu kapsamış oluruz. Bu veride ortalamadan 3 standart sapma sağa ve sola gittiğimizde verinin %97.8'ini kapsadığını görüyoruz."
      ]
    },
    {
      "cell_type": "code",
      "metadata": {
        "id": "9FQpcdjQ_x2J"
      },
      "source": [
        "normal = np.random.normal(df['stock_return'].mean() , df['stock_return'].std() , len(df['stock_return']))\n",
        "normal.sort()\n"
      ],
      "execution_count": null,
      "outputs": []
    },
    {
      "cell_type": "code",
      "metadata": {
        "colab": {
          "base_uri": "https://localhost:8080/",
          "height": 483
        },
        "id": "pcNWr249CLHM",
        "outputId": "4c6750e8-a4b8-4362-9b84-c86a4472d44a"
      },
      "source": [
        "plt.figure(figsize=(14,8))\n",
        "plt.scatter(normal , df['stock_return'].sort_values())\n",
        "plt.plot( [np.min(normal) , np.max(normal)] , [df['stock_return'].min() , df['stock_return'].max()])\n",
        "plt.show()"
      ],
      "execution_count": null,
      "outputs": [
        {
          "output_type": "display_data",
          "data": {
            "image/png": "[encoded data removed]",
            "text/plain": [
              "<Figure size 1008x576 with 1 Axes>"
            ]
          },
          "metadata": {
            "tags": [],
            "needs_background": "light"
          }
        }
      ]
    },
    {
      "cell_type": "markdown",
      "metadata": {
        "id": "XOnPWbOaFlz0"
      },
      "source": [
        "Histograma baktığımızda verimizin normal dağılıma benzediğini söyleyebilirdik ama QQ plots çizdiğimizde görüyoruz ki verimiz normal dağılıma sahip değil."
      ]
    },
    {
      "cell_type": "code",
      "metadata": {
        "id": "dBsAobZ9GTTx"
      },
      "source": [
        ""
      ],
      "execution_count": null,
      "outputs": []
    }
  ]
}