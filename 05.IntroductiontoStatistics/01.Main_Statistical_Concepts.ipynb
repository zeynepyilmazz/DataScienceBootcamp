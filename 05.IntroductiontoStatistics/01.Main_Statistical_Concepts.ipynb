{
  "nbformat": 4,
  "nbformat_minor": 0,
  "metadata": {
    "kernelspec": {
      "display_name": "Python 3",
      "language": "python",
      "name": "python3"
    },
    "language_info": {
      "codemirror_mode": {
        "name": "ipython",
        "version": 3
      },
      "file_extension": ".py",
      "mimetype": "text/x-python",
      "name": "python",
      "nbconvert_exporter": "python",
      "pygments_lexer": "ipython3",
      "version": "3.8.7"
    },
    "colab": {
      "name": "01.Main_Statistical_Concepts.ipynb",
      "provenance": [],
      "collapsed_sections": [],
      "include_colab_link": true
    }
  },
  "cells": [
    {
      "cell_type": "markdown",
      "metadata": {
        "id": "view-in-github",
        "colab_type": "text"
      },
      "source": [
        "<a href=\"https://colab.research.google.com/github/zeynepyilmazz/DataScienceBootcamp/blob/main/05.IntroductiontoStatistics/01.Main_Statistical_Concepts.ipynb\" target=\"_parent\"><img src=\"https://colab.research.google.com/assets/colab-badge.svg\" alt=\"Open In Colab\"/></a>"
      ]
    },
    {
      "cell_type": "markdown",
      "metadata": {
        "id": "dcWenChDdMpw"
      },
      "source": [
        "- Analyze the central tendency and distribution measurements with the mathematical formula given above and the built-in codes available in python through 3 different data that you will generate using the numpy library !!!"
      ]
    },
    {
      "cell_type": "code",
      "metadata": {
        "id": "zMmq7aVGdMp2"
      },
      "source": [
        "import numpy as np\n",
        "import statistics"
      ],
      "execution_count": null,
      "outputs": []
    },
    {
      "cell_type": "code",
      "metadata": {
        "id": "VBnpCr7AeK4s"
      },
      "source": [
        "array = np.array([45,-7,20,18,-7,96,14,12,-7,0,-77,36,7,5,9,-88,4,-15,20,796,0,0,-7,12,89])\n",
        "random_normal = np.random.normal(45,8,100)\n",
        "random_standard_normal = np.random.standard_normal(100)"
      ],
      "execution_count": null,
      "outputs": []
    },
    {
      "cell_type": "markdown",
      "metadata": {
        "id": "Uc6Inl7VgDIi"
      },
      "source": [
        "# MEAN"
      ]
    },
    {
      "cell_type": "code",
      "metadata": {
        "id": "GkWW0rLJhJTa"
      },
      "source": [
        "def mean(x):\n",
        "  return sum(x) / len(x)"
      ],
      "execution_count": null,
      "outputs": []
    },
    {
      "cell_type": "code",
      "metadata": {
        "colab": {
          "base_uri": "https://localhost:8080/"
        },
        "id": "8Gd0G3TGeWvH",
        "outputId": "6d2748b5-0bb7-4b92-c533-dfe89ef84bb2"
      },
      "source": [
        "print('arange mean                 : {}'.format(array.mean()))\n",
        "print('arange mean                 : {}'.format(mean(array)))\n",
        "print('random_normal mean          : {}'.format(random_normal.mean()))\n",
        "print('random_normal mean          : {}'.format(mean(random_normal)))\n",
        "print('random_standard_normal mean : {}'.format(random_standard_normal.mean()))\n",
        "print('random_standard_normal mean : {}'.format(mean(random_standard_normal)))\n"
      ],
      "execution_count": null,
      "outputs": [
        {
          "output_type": "stream",
          "text": [
            "arange mean                 : 39.0\n",
            "arange mean                 : 39.0\n",
            "random_normal mean          : 46.26155492056205\n",
            "random_normal mean          : 46.26155492056204\n",
            "random_standard_normal mean : -0.00807392413919029\n",
            "random_standard_normal mean : -0.008073924139190263\n"
          ],
          "name": "stdout"
        }
      ]
    },
    {
      "cell_type": "markdown",
      "metadata": {
        "id": "OT47MLAehmgq"
      },
      "source": [
        "# MEDIAN"
      ]
    },
    {
      "cell_type": "code",
      "metadata": {
        "id": "IGKMrbSRihMb"
      },
      "source": [
        "def median(x):\n",
        "  for i in range(0,len(x)):\n",
        "    for j in range(0,len(x)-1):\n",
        "      if (x[j] > x[j+1]):\n",
        "        temp = x[j]\n",
        "        x[j] = x[j+1]\n",
        "        x[j+1] = temp\n",
        "  if (len(x) % 2 == 0):\n",
        "    return ((x[(len(x)//2)-1] + x[(len(x)//2)])/2)\n",
        "  else:\n",
        "    return(x[len(x)//2])\n",
        "  "
      ],
      "execution_count": null,
      "outputs": []
    },
    {
      "cell_type": "code",
      "metadata": {
        "colab": {
          "base_uri": "https://localhost:8080/"
        },
        "id": "Wp-1LHPtgQp6",
        "outputId": "e6fa0aa7-b24f-49de-b95f-8dcd4a1a5b58"
      },
      "source": [
        "print('array median                  : {}'.format(np.median(array)))\n",
        "print('array median                  : {}'.format(median(array)))\n",
        "print('random_normal median          : {}'.format(np.median(random_normal)))\n",
        "print('random_normal median          : {}'.format(median(random_normal)))\n",
        "print('random_standard_normal median : {}'.format(np.median(random_standard_normal)))\n",
        "print('random_standard_normal median : {}'.format(median(random_standard_normal)))"
      ],
      "execution_count": null,
      "outputs": [
        {
          "output_type": "stream",
          "text": [
            "array median                  : 7.0\n",
            "array median                  : 7\n",
            "random_normal median          : 46.47603595481468\n",
            "random_normal median          : 46.47603595481468\n",
            "random_standard_normal median : 0.013542302679419704\n",
            "random_standard_normal median : 0.013542302679419704\n"
          ],
          "name": "stdout"
        }
      ]
    },
    {
      "cell_type": "markdown",
      "metadata": {
        "id": "_25g6Lg3pegO"
      },
      "source": [
        "# MODE"
      ]
    },
    {
      "cell_type": "code",
      "metadata": {
        "id": "NFwnJc5yrKkA"
      },
      "source": [
        "def mode(x):\n",
        "  values , counts = np.unique(x , return_counts=True)\n",
        "  index = np.argmax(counts)\n",
        "  return values[index]"
      ],
      "execution_count": null,
      "outputs": []
    },
    {
      "cell_type": "code",
      "metadata": {
        "colab": {
          "base_uri": "https://localhost:8080/"
        },
        "id": "tpi5zOBmnVWC",
        "outputId": "bd6410e9-a21c-4a37-8896-caa4d4580fac"
      },
      "source": [
        "print('array mode : {}'.format(statistics.mode(array)))\n",
        "print('array mode : {}'.format(mode(array)))"
      ],
      "execution_count": null,
      "outputs": [
        {
          "output_type": "stream",
          "text": [
            "array mode : -7\n",
            "array mode : -7\n"
          ],
          "name": "stdout"
        }
      ]
    },
    {
      "cell_type": "markdown",
      "metadata": {
        "id": "QG0tGj5QsLhe"
      },
      "source": [
        "# VARIANCE"
      ]
    },
    {
      "cell_type": "code",
      "metadata": {
        "id": "bwMXgMKQrvcz"
      },
      "source": [
        "def variance(x , ddof = 0):\n",
        "  sum = 0\n",
        "  for num in x:\n",
        "    sum = sum + (num - x.mean())**2\n",
        "  return sum / (len(x) - ddof)\n"
      ],
      "execution_count": null,
      "outputs": []
    },
    {
      "cell_type": "code",
      "metadata": {
        "colab": {
          "base_uri": "https://localhost:8080/"
        },
        "id": "XbLmW9qvtcRB",
        "outputId": "330809fa-e055-4f5a-ada7-c357d462daf2"
      },
      "source": [
        "print('array variance              : {}'.format(np.var(array)))\n",
        "print('array variance              : {}'.format(variance(array)))\n",
        "print('array variance (ddof = 1)   : {}'.format(np.var(array,ddof=1)))\n",
        "print('array variance (ddof = 1)   : {}'.format(variance(array,ddof=1)))\n",
        "print('--'*30)\n",
        "print('random_normal variance            : {}'.format(np.var(random_normal)))\n",
        "print('random_normal variance            : {}'.format(variance(random_normal)))\n",
        "print('random_normal variance (ddof = 1) : {}'.format(np.var(random_normal,ddof = 1)))\n",
        "print('random_normal variance (ddof = 1) : {}'.format(variance(random_normal,ddof = 1)))\n",
        "print('--'*30)\n",
        "print('random_standard_normal variance            : {}'.format(np.var(random_standard_normal)))\n",
        "print('random_standard_normal variance            : {}'.format(variance(random_standard_normal)))\n",
        "print('random_standard_normal variance (ddof = 1) : {}'.format(np.var(random_standard_normal,ddof = 1)))\n",
        "print('random_standard_normal variance (ddof = 1) : {}'.format(variance(random_standard_normal,ddof = 1)))"
      ],
      "execution_count": null,
      "outputs": [
        {
          "output_type": "stream",
          "text": [
            "array variance              : 25276.88\n",
            "array variance              : 25276.88\n",
            "array variance (ddof = 1)   : 26330.083333333332\n",
            "array variance (ddof = 1)   : 26330.083333333332\n",
            "------------------------------------------------------------\n",
            "random_normal variance            : 74.90881480512934\n",
            "random_normal variance            : 74.90881480512935\n",
            "random_normal variance (ddof = 1) : 75.66546950013064\n",
            "random_normal variance (ddof = 1) : 75.66546950013067\n",
            "------------------------------------------------------------\n",
            "random_standard_normal variance            : 1.1386023491280222\n",
            "random_standard_normal variance            : 1.1386023491280222\n",
            "random_standard_normal variance (ddof = 1) : 1.1501033829575982\n",
            "random_standard_normal variance (ddof = 1) : 1.1501033829575982\n"
          ],
          "name": "stdout"
        }
      ]
    },
    {
      "cell_type": "markdown",
      "metadata": {
        "id": "g69bTBZRwCxj"
      },
      "source": [
        "# STANDARD DEVIATION"
      ]
    },
    {
      "cell_type": "code",
      "metadata": {
        "colab": {
          "base_uri": "https://localhost:8080/"
        },
        "id": "kO3JPRpwtiUX",
        "outputId": "86999063-fa62-4cc5-bc76-f2954e4d4c00"
      },
      "source": [
        "print('array standard deviation : {}'.format(np.std(array,ddof = 1)))\n",
        "print('array standard deviation : {}'.format((variance(array,ddof = 1)**0.5)))\n",
        "print('--'*30)\n",
        "print('random_normal standard deviation : {}'.format(np.std(random_normal,ddof = 1)))\n",
        "print('random_normal standard deviation : {}'.format((variance(random_normal,ddof = 1)**0.5)))\n",
        "print('--'*30)\n",
        "print('random_standard_normal standard deviation : {}'.format(np.std(random_standard_normal,ddof = 1)))\n",
        "print('random_standard_normal standard deviation : {}'.format((variance(random_standard_normal,ddof = 1)**0.5)))"
      ],
      "execution_count": null,
      "outputs": [
        {
          "output_type": "stream",
          "text": [
            "array standard deviation : 162.2654717841517\n",
            "array standard deviation : 162.2654717841517\n",
            "------------------------------------------------------------\n",
            "random_normal standard deviation : 8.698590086912398\n",
            "random_normal standard deviation : 8.6985900869124\n",
            "------------------------------------------------------------\n",
            "random_standard_normal standard deviation : 1.0724287309456038\n",
            "random_standard_normal standard deviation : 1.0724287309456038\n"
          ],
          "name": "stdout"
        }
      ]
    },
    {
      "cell_type": "markdown",
      "metadata": {
        "id": "mSeN1-nnxO0S"
      },
      "source": [
        "# STANDARD ERROR"
      ]
    },
    {
      "cell_type": "code",
      "metadata": {
        "colab": {
          "base_uri": "https://localhost:8080/"
        },
        "id": "XecHfaELwUG5",
        "outputId": "9e06daae-89ac-4d8d-8200-e73e8e24d9c8"
      },
      "source": [
        "print('array standard error : {}'.format(np.std(array,ddof = 1) / np.sqrt(len(array))))\n",
        "print('array standard error : {}'.format((variance(array,ddof = 1)**0.5) / (len(array)**0.5)))\n",
        "print('--'*30)\n",
        "print('random_normal standard error : {}'.format(np.std(random_normal,ddof = 1) / np.sqrt(len(random_normal))))\n",
        "print('random_normal standard error : {}'.format((variance(random_normal,ddof = 1)**0.5) / (len(random_normal)**0.5)))\n",
        "print('--'*30)\n",
        "print('random_standard_normal standard error : {}'.format(np.std(random_standard_normal,ddof = 1) / np.sqrt(len(random_standard_normal))))\n",
        "print('random_standard_normal standard error : {}'.format((variance(random_standard_normal,ddof = 1)**0.5) / (len(random_standard_normal)**0.5)))"
      ],
      "execution_count": null,
      "outputs": [
        {
          "output_type": "stream",
          "text": [
            "array standard error : 32.45309435683034\n",
            "array standard error : 32.45309435683034\n",
            "------------------------------------------------------------\n",
            "random_normal standard error : 0.8698590086912399\n",
            "random_normal standard error : 0.86985900869124\n",
            "------------------------------------------------------------\n",
            "random_standard_normal standard error : 0.10724287309456038\n",
            "random_standard_normal standard error : 0.10724287309456038\n"
          ],
          "name": "stdout"
        }
      ]
    },
    {
      "cell_type": "code",
      "metadata": {
        "id": "UdvL-YUvyJDr"
      },
      "source": [
        ""
      ],
      "execution_count": null,
      "outputs": []
    }
  ]
}