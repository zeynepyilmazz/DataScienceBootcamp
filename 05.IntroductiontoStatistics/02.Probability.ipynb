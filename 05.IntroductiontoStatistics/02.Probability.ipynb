{
  "nbformat": 4,
  "nbformat_minor": 0,
  "metadata": {
    "kernelspec": {
      "display_name": "Python 3",
      "language": "python",
      "name": "python3"
    },
    "language_info": {
      "codemirror_mode": {
        "name": "ipython",
        "version": 3
      },
      "file_extension": ".py",
      "mimetype": "text/x-python",
      "name": "python",
      "nbconvert_exporter": "python",
      "pygments_lexer": "ipython3",
      "version": "3.8.7"
    },
    "colab": {
      "name": "02.Probability.ipynb",
      "provenance": [],
      "collapsed_sections": [],
      "include_colab_link": true
    }
  },
  "cells": [
    {
      "cell_type": "markdown",
      "metadata": {
        "id": "view-in-github",
        "colab_type": "text"
      },
      "source": [
        "<a href=\"https://colab.research.google.com/github/zeynepyilmazz/DataScienceBootcamp/blob/main/05.IntroductiontoStatistics/02.Probability.ipynb\" target=\"_parent\"><img src=\"https://colab.research.google.com/assets/colab-badge.svg\" alt=\"Open In Colab\"/></a>"
      ]
    },
    {
      "cell_type": "markdown",
      "metadata": {
        "id": "1w7r4O-AC-SX"
      },
      "source": [
        "It has been found that some of the computers sold by Company A are defective. Assuming that there are 3 computer-producing companies (A, B, and C), the amount of computer production of these companies and the probabilities of defective production are as follows:\n",
        "\n",
        "Total production percentage : <br>\n",
        "$P(A)=0.40$<br>\n",
        "$P(B)=0.40$ <br>\n",
        "$P(C)=0.20$<br>\n",
        "\n",
        "Possibility of defective production :<br>\n",
        "$P(D|A)=0.015$<br>\n",
        "$P(D|B)=0.020$<br>\n",
        "$P(D|C)=0.010$\n",
        "\n",
        "- What is the probability that a randomly selected defective computer will be produced by company B?"
      ]
    },
    {
      "cell_type": "code",
      "metadata": {
        "id": "Mm6rZ7EpC-Se",
        "colab": {
          "base_uri": "https://localhost:8080/"
        },
        "outputId": "465b9e13-20c5-4b8a-b9f0-96cfda20bfd2"
      },
      "source": [
        "P = 100 * (0.020 * 0.40) / (0.40 * 0.015 + 0.40 * 0.020 + 0.20 * 0.010)\n",
        "print('%{}'.format(P))"
      ],
      "execution_count": null,
      "outputs": [
        {
          "output_type": "stream",
          "text": [
            "%50.0\n"
          ],
          "name": "stdout"
        }
      ]
    },
    {
      "cell_type": "code",
      "metadata": {
        "id": "XXkLHdsUEpQT"
      },
      "source": [
        ""
      ],
      "execution_count": null,
      "outputs": []
    }
  ]
}