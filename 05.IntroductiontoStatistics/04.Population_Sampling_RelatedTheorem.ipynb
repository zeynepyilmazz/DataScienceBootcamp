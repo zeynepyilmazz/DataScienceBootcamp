{
  "nbformat": 4,
  "nbformat_minor": 0,
  "metadata": {
    "kernelspec": {
      "display_name": "Python 3",
      "language": "python",
      "name": "python3"
    },
    "language_info": {
      "codemirror_mode": {
        "name": "ipython",
        "version": 3
      },
      "file_extension": ".py",
      "mimetype": "text/x-python",
      "name": "python",
      "nbconvert_exporter": "python",
      "pygments_lexer": "ipython3",
      "version": "3.8.7"
    },
    "colab": {
      "name": "04.Population_Sampling_RelatedTheorem.ipynb",
      "provenance": [],
      "collapsed_sections": [],
      "include_colab_link": true
    }
  },
  "cells": [
    {
      "cell_type": "markdown",
      "metadata": {
        "id": "view-in-github",
        "colab_type": "text"
      },
      "source": [
        "<a href=\"https://colab.research.google.com/github/zeynepyilmazz/DataScienceBootcamp/blob/main/05.IntroductiontoStatistics/04.Population_Sampling_RelatedTheorem.ipynb\" target=\"_parent\"><img src=\"https://colab.research.google.com/assets/colab-badge.svg\" alt=\"Open In Colab\"/></a>"
      ]
    },
    {
      "cell_type": "markdown",
      "metadata": {
        "id": "xBcZvQHd2ESG"
      },
      "source": [
        "**(1)** In this assignment, you test whether the central limit theorem works. You generate 1000 variables with two normal distributions. You can determine the mean and standard deviation of these variables yourself. All you have to do is generate the first variable 50 times and averaged it each time. Generate the second variable 1000 times and averages this variable each time. Then plot the histogram of the averages of the two variables. Which of the variables has a mean distribution closer to the normal distribution? Do you think the Central Limit Theorem seems to have worked?"
      ]
    },
    {
      "cell_type": "code",
      "metadata": {
        "id": "G5hJ4msz3GLS"
      },
      "source": [
        "import numpy as np\n",
        "import matplotlib.pyplot as plt"
      ],
      "execution_count": null,
      "outputs": []
    },
    {
      "cell_type": "code",
      "metadata": {
        "id": "UnQvb1or2ESM"
      },
      "source": [
        "normal1_mean = []\n",
        "normal2_mean = []\n",
        "for i in range(50):\n",
        "  normal_data1 = np.random.normal(10,5,1000)\n",
        "  normal1_mean.append(np.mean(normal_data1))\n",
        "\n",
        "for i in range(1000):\n",
        "  normal_data2 = np.random.normal(0,1,1000)\n",
        "  normal2_mean.append(np.mean(normal_data2))"
      ],
      "execution_count": null,
      "outputs": []
    },
    {
      "cell_type": "code",
      "metadata": {
        "colab": {
          "base_uri": "https://localhost:8080/",
          "height": 483
        },
        "id": "AfDgPt8J3VZc",
        "outputId": "afc7cc74-c272-4949-c804-2582d31fb9eb"
      },
      "source": [
        "plt.figure(figsize=(16,8))\n",
        "plt.subplot(1,2,1)\n",
        "plt.hist(normal1_mean , bins=30)\n",
        "plt.subplot(1,2,2)\n",
        "plt.hist(normal2_mean , bins=30)\n",
        "plt.show()"
      ],
      "execution_count": null,
      "outputs": [
        {
          "output_type": "display_data",
          "data": {
            "image/png": "[encoded data removed]",
            "text/plain": [
              "<Figure size 1152x576 with 2 Axes>"
            ]
          },
          "metadata": {
            "tags": [],
            "needs_background": "light"
          }
        }
      ]
    },
    {
      "cell_type": "markdown",
      "metadata": {
        "id": "PzJQQBg8Othk"
      },
      "source": [
        "Central Limit Theorem'de dağılımın türü ne olursa olsun örneklem sayısı arttıkça dağılım normal dağılıma benzer. "
      ]
    },
    {
      "cell_type": "code",
      "metadata": {
        "id": "w8nYGS5Y4D9R"
      },
      "source": [
        ""
      ],
      "execution_count": null,
      "outputs": []
    }
  ]
}