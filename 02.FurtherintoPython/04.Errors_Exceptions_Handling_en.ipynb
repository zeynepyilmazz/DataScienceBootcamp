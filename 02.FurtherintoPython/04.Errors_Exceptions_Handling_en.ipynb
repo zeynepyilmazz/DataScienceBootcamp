{
  "nbformat": 4,
  "nbformat_minor": 0,
  "metadata": {
    "kernelspec": {
      "display_name": "Python 3",
      "language": "python",
      "name": "python3"
    },
    "language_info": {
      "codemirror_mode": {
        "name": "ipython",
        "version": 3
      },
      "file_extension": ".py",
      "mimetype": "text/x-python",
      "name": "python",
      "nbconvert_exporter": "python",
      "pygments_lexer": "ipython3",
      "version": "3.8.2"
    },
    "colab": {
      "name": "04.Errors_Exceptions_Handling_en.ipynb",
      "provenance": [],
      "collapsed_sections": [],
      "include_colab_link": true
    }
  },
  "cells": [
    {
      "cell_type": "markdown",
      "metadata": {
        "id": "view-in-github",
        "colab_type": "text"
      },
      "source": [
        "<a href=\"https://colab.research.google.com/github/zeynepyilmazz/DataScienceBootcamp/blob/main/02.FurtherintoPython/04.Errors_Exceptions_Handling_en.ipynb\" target=\"_parent\"><img src=\"https://colab.research.google.com/assets/colab-badge.svg\" alt=\"Open In Colab\"/></a>"
      ]
    },
    {
      "cell_type": "markdown",
      "metadata": {
        "id": "v4b2wtDw11i5"
      },
      "source": [
        "**(1)** Let us define a division operation inside a function (using `def`) but to get an error, define the denominator as 0. So, type properly except statement."
      ]
    },
    {
      "cell_type": "code",
      "metadata": {
        "id": "etUPjSUd11jC",
        "colab": {
          "base_uri": "https://localhost:8080/"
        },
        "outputId": "2a6f2bfa-fb8b-412e-f66e-2230ffb392df"
      },
      "source": [
        "def division(x,y):\n",
        "  try :\n",
        "    return x / y\n",
        "  except ZeroDivisionError:\n",
        "    print(\"ZeroDivisionError\")\n",
        "\n",
        "division(10,0)"
      ],
      "execution_count": null,
      "outputs": [
        {
          "output_type": "stream",
          "text": [
            "ZeroDivisionError\n"
          ],
          "name": "stdout"
        }
      ]
    },
    {
      "cell_type": "markdown",
      "metadata": {
        "id": "NMH3OjwE11jD"
      },
      "source": [
        "**(2)** It is possible to get multiple errors after the execution of one try block. So, please define an error-exception issue with `NameError`."
      ]
    },
    {
      "cell_type": "code",
      "metadata": {
        "id": "wI7iKMZP11jE",
        "colab": {
          "base_uri": "https://localhost:8080/"
        },
        "outputId": "c13319d6-2e60-455a-a0fd-c98c9b271ccb"
      },
      "source": [
        "num = 123\n",
        "try:\n",
        "  print(number)\n",
        "except NameError:\n",
        "  print(\"NameError \")\n"
      ],
      "execution_count": null,
      "outputs": [
        {
          "output_type": "stream",
          "text": [
            "NameError \n"
          ],
          "name": "stdout"
        }
      ]
    },
    {
      "cell_type": "markdown",
      "metadata": {
        "id": "1q4rV3P211jE"
      },
      "source": [
        "**(3)** Please define a function and with this function, generate a `ValueError` exception simply by entering a string instead of numerical value."
      ]
    },
    {
      "cell_type": "code",
      "metadata": {
        "id": "B6feNwYj11jF"
      },
      "source": [
        "def square(x):\n",
        "    return x**2\n"
      ],
      "execution_count": null,
      "outputs": []
    },
    {
      "cell_type": "code",
      "metadata": {
        "colab": {
          "base_uri": "https://localhost:8080/"
        },
        "id": "nSwlYGL26xOk",
        "outputId": "3a5b387e-69af-42ac-a8ec-85268edfb48f"
      },
      "source": [
        "\n",
        "while True :\n",
        "  try:\n",
        "    number = int(input('Please enter a number:\\n'))\n",
        "    print(\"{} ** 2 = {} \".format(number,square(number)))\n",
        "    break\n",
        "  except ValueError:\n",
        "    print(\"ValueError . Try again\")\n"
      ],
      "execution_count": null,
      "outputs": [
        {
          "output_type": "stream",
          "text": [
            "Please enter a number:\n",
            "a\n",
            "ValueError . Try again\n",
            "Please enter a number:\n",
            "5\n",
            "5 ** 2 = 25 \n"
          ],
          "name": "stdout"
        }
      ]
    },
    {
      "cell_type": "code",
      "metadata": {
        "id": "ROCyyEJo7KU4"
      },
      "source": [
        ""
      ],
      "execution_count": null,
      "outputs": []
    }
  ]
}