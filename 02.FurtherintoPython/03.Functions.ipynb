{
  "nbformat": 4,
  "nbformat_minor": 0,
  "metadata": {
    "kernelspec": {
      "display_name": "Python 3",
      "language": "python",
      "name": "python3"
    },
    "language_info": {
      "codemirror_mode": {
        "name": "ipython",
        "version": 3
      },
      "file_extension": ".py",
      "mimetype": "text/x-python",
      "name": "python",
      "nbconvert_exporter": "python",
      "pygments_lexer": "ipython3",
      "version": "3.8.2"
    },
    "colab": {
      "name": "03.Functions.ipynb",
      "provenance": [],
      "collapsed_sections": [],
      "include_colab_link": true
    }
  },
  "cells": [
    {
      "cell_type": "markdown",
      "metadata": {
        "id": "view-in-github",
        "colab_type": "text"
      },
      "source": [
        "<a href=\"https://colab.research.google.com/github/zeynepyilmazz/DataScienceBootcamp/blob/main/02.FurtherintoPython/03.Functions.ipynb\" target=\"_parent\"><img src=\"https://colab.research.google.com/assets/colab-badge.svg\" alt=\"Open In Colab\"/></a>"
      ]
    },
    {
      "cell_type": "markdown",
      "metadata": {
        "id": "8RoG-qzm4rcr"
      },
      "source": [
        "**(1)** A prime number is an integer greater than one that is only divisible by one and itself. Write a function that determines whether or not its parameter is prime, returns `True` if it is and `False` otherwise. Write a main program that reads an integer from the user and displays a message indicating whether or not it is prime. Ensure that the main program does not run if the file containing your solution is imported into another program."
      ]
    },
    {
      "cell_type": "code",
      "metadata": {
        "id": "YuksUFpt4rcw"
      },
      "source": [
        "def primeOrNot(x):\n",
        "  if (x < 2):\n",
        "    return False\n",
        "  elif (x == 2):\n",
        "    return True\n",
        "  else:\n",
        "    for i in range(2,x):\n",
        "      if (x % i == 0):\n",
        "        return False\n",
        "    \n",
        "    return True\n"
      ],
      "execution_count": null,
      "outputs": []
    },
    {
      "cell_type": "code",
      "metadata": {
        "id": "kjGbFskxhLZg",
        "colab": {
          "base_uri": "https://localhost:8080/"
        },
        "outputId": "01f24d19-17e4-45bc-8b16-828f15cd9b1f"
      },
      "source": [
        "primeOrNot(193)"
      ],
      "execution_count": null,
      "outputs": [
        {
          "output_type": "execute_result",
          "data": {
            "text/plain": [
              "True"
            ]
          },
          "metadata": {
            "tags": []
          },
          "execution_count": 12
        }
      ]
    },
    {
      "cell_type": "markdown",
      "metadata": {
        "id": "a_TYR4Vp4rcx"
      },
      "source": [
        "**(2)** Please write a function that passes each element of a list only once to a new list. We usually do this with the `set()` command, but let us not use this command this time.\n",
        "\n",
        "    Example:\n",
        "    \n",
        "        unique_list([1,2,2,3,3,4,4]) = [1,2,3,4]"
      ]
    },
    {
      "cell_type": "code",
      "metadata": {
        "id": "ig1EfV8R4rcx"
      },
      "source": [
        "def unique_list(first_list):\n",
        "  new_list = []\n",
        "  for i in first_list:\n",
        "    if (i not in new_list):\n",
        "      new_list.append(i)\n",
        "  return new_list"
      ],
      "execution_count": null,
      "outputs": []
    },
    {
      "cell_type": "code",
      "metadata": {
        "id": "n0SSkG0UoU8l",
        "colab": {
          "base_uri": "https://localhost:8080/"
        },
        "outputId": "eeb33203-6d34-481d-fbbf-446014d77896"
      },
      "source": [
        "unique_list ([1,2,2,3,3,4,4])"
      ],
      "execution_count": null,
      "outputs": [
        {
          "output_type": "execute_result",
          "data": {
            "text/plain": [
              "[1, 2, 3, 4, 5]"
            ]
          },
          "metadata": {
            "tags": []
          },
          "execution_count": 26
        }
      ]
    },
    {
      "cell_type": "markdown",
      "metadata": {
        "id": "XSVJPubw4rcx"
      },
      "source": [
        "**(3)** There are many built-in modules in Python. By importing one of the modules on time, write a function that takes the date of birth as a parameter and returns the age."
      ]
    },
    {
      "cell_type": "code",
      "metadata": {
        "id": "t8B68mKf4rcy"
      },
      "source": [
        "import datetime\n",
        "def age(day, month, year):\n",
        "  time_1 = datetime.date.today()\n",
        "  if (time_1.month < month):\n",
        "    result = time_1.year - year - 1\n",
        "  elif (time_1.month == month):\n",
        "    if (time_1.day < day):\n",
        "      result = time_1.year - year - 1\n",
        "    else:\n",
        "      result = time_1.year - year\n",
        "  else:\n",
        "    result = time_1.year - year\n",
        "  print(\"Age : {}\".format(result))"
      ],
      "execution_count": null,
      "outputs": []
    },
    {
      "cell_type": "code",
      "metadata": {
        "id": "-BNOb1W5ttti",
        "colab": {
          "base_uri": "https://localhost:8080/"
        },
        "outputId": "19c89880-1a6d-4c4e-aed4-e2bea8dce74e"
      },
      "source": [
        "day = int(input(\"day :\"))\n",
        "month = int(input(\"month :\"))\n",
        "year = int(input(\"year :\"))\n",
        "age(day,month,year)"
      ],
      "execution_count": null,
      "outputs": [
        {
          "output_type": "stream",
          "text": [
            "day :7\n",
            "month :11\n",
            "year :1997\n",
            "23\n"
          ],
          "name": "stdout"
        }
      ]
    },
    {
      "cell_type": "markdown",
      "metadata": {
        "id": "xUweL0WO4rcy"
      },
      "source": [
        "**(4)** Get a number from the user and calculate the factorial of it by using a function."
      ]
    },
    {
      "cell_type": "code",
      "metadata": {
        "id": "96a2rEBe4rcy"
      },
      "source": [
        "def factorial(x):\n",
        "  factorial = 1\n",
        "  if (x == 0 or x == 1):\n",
        "    return factorial\n",
        "  for i in range(1,x + 1):\n",
        "    factorial = factorial * i\n",
        "  return factorial"
      ],
      "execution_count": null,
      "outputs": []
    },
    {
      "cell_type": "code",
      "metadata": {
        "id": "nlUjPVw41Fzs",
        "colab": {
          "base_uri": "https://localhost:8080/"
        },
        "outputId": "9e14c5d9-ac53-46fb-c02e-2726c11ca3a5"
      },
      "source": [
        "num = int(input(\"number for calculate factorial :\"))\n",
        "print(\"{}! = {}\".format(num,factorial(num)))"
      ],
      "execution_count": null,
      "outputs": [
        {
          "output_type": "stream",
          "text": [
            "number for calculate factorial :6\n",
            "6! = 720\n"
          ],
          "name": "stdout"
        }
      ]
    },
    {
      "cell_type": "markdown",
      "metadata": {
        "id": "pq2kGBLk4rcy"
      },
      "source": [
        "**(5)** Write a function named `perfect()` that determines if the parameter number is a perfect number. Use this function in a program that determines and prints all the perfect numbers between 1 and 1000.\n",
        "\n",
        "    An integer number is said to be a `perfect number` if its factors (including 1, but not the number itself) sum to the number. \n",
        "\n",
        "        E.g.: 6 is a perfect number because 6 = 1 + 2 + 3."
      ]
    },
    {
      "cell_type": "code",
      "metadata": {
        "id": "q6p-xIB84rcz"
      },
      "source": [
        "def perfect(num):\n",
        "  toplam = 0\n",
        "  for i in range(1,num):\n",
        "    if (num % i == 0):\n",
        "      toplam = toplam + i\n",
        "    \n",
        "  if (toplam == num):\n",
        "    return True\n",
        "  else:\n",
        "    return False\n"
      ],
      "execution_count": null,
      "outputs": []
    },
    {
      "cell_type": "code",
      "metadata": {
        "id": "4xpS1cLx4OfS",
        "colab": {
          "base_uri": "https://localhost:8080/"
        },
        "outputId": "652c1305-bb4f-41f0-ae56-01ac0327e598"
      },
      "source": [
        "for x in range(1,1001):\n",
        "  if (perfect(x)):\n",
        "    print(x)\n"
      ],
      "execution_count": null,
      "outputs": [
        {
          "output_type": "stream",
          "text": [
            "6\n",
            "28\n",
            "496\n"
          ],
          "name": "stdout"
        }
      ]
    },
    {
      "cell_type": "markdown",
      "metadata": {
        "id": "HkB1UigB4rcz"
      },
      "source": [
        "**(6)** Write a Python function that prints out the first n rows of [Pascal's triangle](https://en.wikipedia.org/wiki/Pascal%27s_triangle). \n",
        "\n",
        "<div style=\"text-align:center;\">\n",
        "    <img src=\"https://bootrain-lms-assets.s3.eu-central-1.amazonaws.com/bootrain-lms-static/images/02_IntermediatePython/03_PascalsTriangle.gif\" width=\"200\">\n",
        "    <br>\n",
        "    In Pascal's triangle, each number is the sum of the two numbers directly above it.\n",
        "</div>"
      ]
    },
    {
      "cell_type": "code",
      "metadata": {
        "id": "Deroc0094rcz"
      },
      "source": [
        "def yazdır(liste):\n",
        "  for x in liste:\n",
        "    if (x == 0):\n",
        "      print(\"  \",end = \"  \")\n",
        "    else:\n",
        "      print(x,end = \"  \")\n",
        "  \n",
        "  print(\"\\n\")"
      ],
      "execution_count": null,
      "outputs": []
    },
    {
      "cell_type": "code",
      "metadata": {
        "id": "89eLuH9JbOSG"
      },
      "source": [
        "def pascal(x):\n",
        "  first_list = []\n",
        "  second_list = []\n",
        "  size = x * 2 + 1\n",
        "  for i in range(0,size):\n",
        "    if (i == (size // 2)):\n",
        "      first_list.append(1)\n",
        "    else:\n",
        "      first_list.append(0)\n",
        "\n",
        "  \n",
        "  yazdır(first_list)\n",
        "  for j in range(0,x - 1):\n",
        "    second_list.append(0)\n",
        "      \n",
        "    for k in range(0,size-2):\n",
        "      second_list.append(first_list[k] + first_list[k + 2])\n",
        "      \n",
        "    second_list.append(0)\n",
        "      \n",
        "    yazdır(second_list)\n",
        "      \n",
        "    first_list = second_list\n",
        "    second_list = []\n",
        "\n"
      ],
      "execution_count": null,
      "outputs": []
    },
    {
      "cell_type": "code",
      "metadata": {
        "colab": {
          "base_uri": "https://localhost:8080/"
        },
        "id": "sbF2vTTNcvs-",
        "outputId": "39eb78d5-5f64-4e12-d288-20bc73c4ab0a"
      },
      "source": [
        "pascal(6)"
      ],
      "execution_count": null,
      "outputs": [
        {
          "output_type": "stream",
          "text": [
            "                        1                          \n",
            "\n",
            "                    1      1                      \n",
            "\n",
            "                1      2      1                  \n",
            "\n",
            "            1      3      3      1              \n",
            "\n",
            "        1      4      6      4      1          \n",
            "\n",
            "    1      5      10      10      5      1      \n",
            "\n"
          ],
          "name": "stdout"
        }
      ]
    }
  ]
}