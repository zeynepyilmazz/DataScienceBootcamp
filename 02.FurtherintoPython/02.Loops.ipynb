{
  "nbformat": 4,
  "nbformat_minor": 0,
  "metadata": {
    "colab": {
      "name": "02.Loops.ipynb",
      "provenance": [],
      "collapsed_sections": [],
      "authorship_tag": "ABX9TyOWtFvGJkddJFWxsInYNejI",
      "include_colab_link": true
    },
    "kernelspec": {
      "name": "python3",
      "display_name": "Python 3"
    }
  },
  "cells": [
    {
      "cell_type": "markdown",
      "metadata": {
        "id": "view-in-github",
        "colab_type": "text"
      },
      "source": [
        "<a href=\"https://colab.research.google.com/github/zeynepyilmazz/DataScienceBootcamp/blob/main/02.FurtherintoPython/02.Loops.ipynb\" target=\"_parent\"><img src=\"https://colab.research.google.com/assets/colab-badge.svg\" alt=\"Open In Colab\"/></a>"
      ]
    },
    {
      "cell_type": "markdown",
      "metadata": {
        "id": "BjiLWGWiVvkk"
      },
      "source": [
        "**(1)** Please form a multiplication table from user input.\n",
        "\n",
        "    Example :\n",
        "\n",
        "        Enter a number : 6\n",
        "        6 x 1 = 6                                                               \n",
        "        6 x 2 = 12                                                              \n",
        "        6 x 3 = 18                                                              \n",
        "        6 x 4 = 24                                                              \n",
        "        6 x 5 = 30                                                              \n",
        "        6 x 6 = 36                                                              \n",
        "        6 x 7 = 42                                                              \n",
        "        6 x 8 = 48                                                              \n",
        "        6 x 9 = 54                                                              \n",
        "        6 x 10 = 60 "
      ]
    },
    {
      "cell_type": "code",
      "metadata": {
        "colab": {
          "base_uri": "https://localhost:8080/"
        },
        "id": "K7m0SrreVzCC",
        "outputId": "e4f8c881-45d1-408c-dfed-7b52e334b6c0"
      },
      "source": [
        "number = int(input(\"Enter a number :\"))\n",
        "for i in range(1,11):\n",
        "  print(\"{} x {} = {}\".format(number,i,number*i))"
      ],
      "execution_count": null,
      "outputs": [
        {
          "output_type": "stream",
          "text": [
            "Enter a number :7\n",
            "7 x 1 = 7\n",
            "7 x 2 = 14\n",
            "7 x 3 = 21\n",
            "7 x 4 = 28\n",
            "7 x 5 = 35\n",
            "7 x 6 = 42\n",
            "7 x 7 = 49\n",
            "7 x 8 = 56\n",
            "7 x 9 = 63\n",
            "7 x 10 = 70\n"
          ],
          "name": "stdout"
        }
      ]
    },
    {
      "cell_type": "markdown",
      "metadata": {
        "id": "a9d6s63GWTxL"
      },
      "source": [
        "**(2)** Simply by using list compherension, form a list by taking square of odds numbers and by calculating cube of even numbers from 1 to 20."
      ]
    },
    {
      "cell_type": "code",
      "metadata": {
        "colab": {
          "base_uri": "https://localhost:8080/"
        },
        "id": "Tf-pAfP8WXl8",
        "outputId": "e75ffd32-78b1-4894-ea6a-ee832aa17103"
      },
      "source": [
        "liste = [i**3 if i % 2 == 0 else i**2 for i in range(1,21)]\n",
        "print(liste)"
      ],
      "execution_count": null,
      "outputs": [
        {
          "output_type": "stream",
          "text": [
            "[1, 8, 9, 64, 25, 216, 49, 512, 81, 1000, 121, 1728, 169, 2744, 225, 4096, 289, 5832, 361, 8000]\n"
          ],
          "name": "stdout"
        }
      ]
    },
    {
      "cell_type": "markdown",
      "metadata": {
        "id": "uFD_nnY2Pj0_"
      },
      "source": [
        "**(3)** Please type a code that inverts the initial user input.\n",
        "\n",
        "    Example : \"automobile\" --> \"elibomotua\""
      ]
    },
    {
      "cell_type": "code",
      "metadata": {
        "colab": {
          "base_uri": "https://localhost:8080/"
        },
        "id": "5vfXuzsRPiBn",
        "outputId": "39172d67-1c5b-4ef3-cd63-aeee359f58d6"
      },
      "source": [
        "word = input(\"word :\")\n",
        "ters = \"\"\n",
        "for i in range(len(word) - 1,-1,-1):\n",
        "  ters = ters + word[i]\n",
        "\n",
        "print(\"{} ---> {}\".format(word,ters))\n"
      ],
      "execution_count": null,
      "outputs": [
        {
          "output_type": "stream",
          "text": [
            "word :orange\n",
            "orange ---> egnaro\n"
          ],
          "name": "stdout"
        }
      ]
    },
    {
      "cell_type": "markdown",
      "metadata": {
        "id": "tzXxZ8JYXvp9"
      },
      "source": [
        "**(4)** Using `range(1, 201)`, make two lists. One is containing all even numbers and the other containing all odd numbers."
      ]
    },
    {
      "cell_type": "code",
      "metadata": {
        "colab": {
          "base_uri": "https://localhost:8080/"
        },
        "id": "D-Qk3uyVXxgr",
        "outputId": "5ce3c907-8f81-4bcb-ecb5-87155348adfa"
      },
      "source": [
        "odd_list=[]\n",
        "even_list = []\n",
        "for i in range(0,201):\n",
        "  if i % 2 == 0:\n",
        "    even_list.append(i)\n",
        "  else:\n",
        "    odd_list.append(i)\n",
        "\n",
        "print(odd_list)\n",
        "print(even_list) "
      ],
      "execution_count": null,
      "outputs": [
        {
          "output_type": "stream",
          "text": [
            "[1, 3, 5, 7, 9, 11, 13, 15, 17, 19, 21, 23, 25, 27, 29, 31, 33, 35, 37, 39, 41, 43, 45, 47, 49, 51, 53, 55, 57, 59, 61, 63, 65, 67, 69, 71, 73, 75, 77, 79, 81, 83, 85, 87, 89, 91, 93, 95, 97, 99, 101, 103, 105, 107, 109, 111, 113, 115, 117, 119, 121, 123, 125, 127, 129, 131, 133, 135, 137, 139, 141, 143, 145, 147, 149, 151, 153, 155, 157, 159, 161, 163, 165, 167, 169, 171, 173, 175, 177, 179, 181, 183, 185, 187, 189, 191, 193, 195, 197, 199]\n",
            "[0, 2, 4, 6, 8, 10, 12, 14, 16, 18, 20, 22, 24, 26, 28, 30, 32, 34, 36, 38, 40, 42, 44, 46, 48, 50, 52, 54, 56, 58, 60, 62, 64, 66, 68, 70, 72, 74, 76, 78, 80, 82, 84, 86, 88, 90, 92, 94, 96, 98, 100, 102, 104, 106, 108, 110, 112, 114, 116, 118, 120, 122, 124, 126, 128, 130, 132, 134, 136, 138, 140, 142, 144, 146, 148, 150, 152, 154, 156, 158, 160, 162, 164, 166, 168, 170, 172, 174, 176, 178, 180, 182, 184, 186, 188, 190, 192, 194, 196, 198, 200]\n"
          ],
          "name": "stdout"
        }
      ]
    },
    {
      "cell_type": "markdown",
      "metadata": {
        "id": "op3WTG5u7ANu"
      },
      "source": [
        "**(5)** Define a function called `count` that has two arguments called `sequence` and `item`. Return the number of times the item occurs in the list.<br>\n",
        "\n",
        "    Example:\n",
        "    ```python\n",
        "    count([1,2,1,1], 1)\n",
        "    ```\n",
        "    It should return 3. Because `1` appears 3 times in the list."
      ]
    },
    {
      "cell_type": "code",
      "metadata": {
        "id": "z7Pglyj26_9H"
      },
      "source": [
        "def count(sequence , item):\n",
        "  count = 0\n",
        "  for i in sequence:\n",
        "    if (item == i):\n",
        "      count +=1\n",
        "  return count"
      ],
      "execution_count": null,
      "outputs": []
    },
    {
      "cell_type": "code",
      "metadata": {
        "colab": {
          "base_uri": "https://localhost:8080/"
        },
        "id": "pHFiQ0sA757u",
        "outputId": "79c8445b-4c7d-4fc5-cd5d-b37ca79b2721"
      },
      "source": [
        "count([1,2,1,1,1,1], 1)"
      ],
      "execution_count": null,
      "outputs": [
        {
          "output_type": "execute_result",
          "data": {
            "text/plain": [
              "5"
            ]
          },
          "metadata": {
            "tags": []
          },
          "execution_count": 15
        }
      ]
    },
    {
      "cell_type": "markdown",
      "metadata": {
        "id": "H2u6-Sw28M47"
      },
      "source": [
        "**(6)** Write a function called `digit_sum` that takes a positive integer n as input and returns the sum of all that number's digits as a single-digit number.\n",
        "\n",
        "    Example:\n",
        "        27684 --> 2 + 7 + 6 + 8 + 4 = 27 --> 2 + 7 = 9"
      ]
    },
    {
      "cell_type": "code",
      "metadata": {
        "id": "1kS11gr08Qj8"
      },
      "source": [
        "def digit_sum(num):\n",
        "  sum = 0\n",
        "  while True:\n",
        "    while num != 0:\n",
        "      sum += num % 10\n",
        "      num = num // 10\n",
        "    if (sum > 9):\n",
        "      num = sum\n",
        "      sum = 0\n",
        "    else:\n",
        "      break\n",
        "    \n",
        "  print(sum)"
      ],
      "execution_count": null,
      "outputs": []
    },
    {
      "cell_type": "code",
      "metadata": {
        "colab": {
          "base_uri": "https://localhost:8080/"
        },
        "id": "O1ZeM3nY9yq1",
        "outputId": "65263cae-de42-40c1-c819-0aaba2d058f3"
      },
      "source": [
        "digit_sum(27684)"
      ],
      "execution_count": null,
      "outputs": [
        {
          "output_type": "stream",
          "text": [
            "9\n"
          ],
          "name": "stdout"
        }
      ]
    },
    {
      "cell_type": "markdown",
      "metadata": {
        "id": "iAeWbRAMP-DB"
      },
      "source": [
        "**(7)** Write a program to find greatest common divisor (GCD) or highest common factor (HCF) of given two numbers."
      ]
    },
    {
      "cell_type": "code",
      "metadata": {
        "colab": {
          "base_uri": "https://localhost:8080/"
        },
        "id": "VUtqx-OrQAsR",
        "outputId": "dac0033d-8088-499f-cd9f-da47abd5c6fc"
      },
      "source": [
        "first_num = int(input(\"ilk sayıyı giriniz:\"))\n",
        "second_num = int(input(\"ikinci sayıyı giriniz:\"))\n",
        "GCD = 1\n",
        "i = 2\n",
        "while first_num != 1 or second_num != 1 :\n",
        "  if (first_num % i == 0 and second_num % i == 0):\n",
        "    GCD = GCD * i\n",
        "    first_num = first_num / i\n",
        "    second_num = second_num /i\n",
        "  elif (first_num % i == 0):\n",
        "    first_num = first_num / i\n",
        "  elif (second_num % i == 0):\n",
        "    second_num = second_num /i\n",
        "  else:\n",
        "    i = i + 1\n",
        "\n",
        "\n",
        "print(\"GCD: {}\".format(GCD))"
      ],
      "execution_count": null,
      "outputs": [
        {
          "output_type": "stream",
          "text": [
            "ilk sayıyı giriniz:6\n",
            "ikinci sayıyı giriniz:18\n",
            "GCD: 6\n"
          ],
          "name": "stdout"
        }
      ]
    },
    {
      "cell_type": "markdown",
      "metadata": {
        "id": "CyfzNnhNSCsI"
      },
      "source": [
        "**(8)** Write a Python program that iterates integers from 1 to 50. For multiples of three print `fizz` instead of the number and for the multiples of five print `buzz`. For numbers which are multiples of both three and five print `fizzbuzz`."
      ]
    },
    {
      "cell_type": "code",
      "metadata": {
        "colab": {
          "base_uri": "https://localhost:8080/"
        },
        "id": "xKrN8PTTSDXo",
        "outputId": "5970eb1d-9d78-487a-a4bd-e73ca115e664"
      },
      "source": [
        "liste = list(range(1,51))\n",
        "for i in liste:\n",
        "  if (i % 3 == 0 and i % 5 == 0):\n",
        "    print(\"fizzbuzz\")\n",
        "  elif (i % 3 == 0):\n",
        "    print(\"fizz\")\n",
        "  elif (i % 5 == 0):\n",
        "    print(\"buzz\")\n",
        "  else:\n",
        "    print(i)\n"
      ],
      "execution_count": null,
      "outputs": [
        {
          "output_type": "stream",
          "text": [
            "1\n",
            "2\n",
            "fizz\n",
            "4\n",
            "buzz\n",
            "fizz\n",
            "7\n",
            "8\n",
            "fizz\n",
            "buzz\n",
            "11\n",
            "fizz\n",
            "13\n",
            "14\n",
            "fizzbuzz\n",
            "16\n",
            "17\n",
            "fizz\n",
            "19\n",
            "buzz\n",
            "fizz\n",
            "22\n",
            "23\n",
            "fizz\n",
            "buzz\n",
            "26\n",
            "fizz\n",
            "28\n",
            "29\n",
            "fizzbuzz\n",
            "31\n",
            "32\n",
            "fizz\n",
            "34\n",
            "buzz\n",
            "fizz\n",
            "37\n",
            "38\n",
            "fizz\n",
            "buzz\n",
            "41\n",
            "fizz\n",
            "43\n",
            "44\n",
            "fizzbuzz\n",
            "46\n",
            "47\n",
            "fizz\n",
            "49\n",
            "buzz\n"
          ],
          "name": "stdout"
        }
      ]
    },
    {
      "cell_type": "markdown",
      "metadata": {
        "id": "lId99EqNTnqJ"
      },
      "source": [
        "**(9)** Please form a list out of Fibonacci numbers from 1 to 50. The first two Fibonacci numbers are 1. The next numbers are the sum of the previous two."
      ]
    },
    {
      "cell_type": "code",
      "metadata": {
        "colab": {
          "base_uri": "https://localhost:8080/"
        },
        "id": "mu0Z7A5GTrEQ",
        "outputId": "dd4db220-9890-42cc-f590-586b782ee79b"
      },
      "source": [
        "fibonacci_list = [0,1]\n",
        "i = 1\n",
        "while True:\n",
        "  if (fibonacci_list[i - 1] + fibonacci_list[i] >=50):\n",
        "    break\n",
        "  fibonacci_list.append(fibonacci_list[i - 1] + fibonacci_list[i])\n",
        "  i = i + 1\n",
        "  \n",
        "print(fibonacci_list)\n",
        "  "
      ],
      "execution_count": null,
      "outputs": [
        {
          "output_type": "stream",
          "text": [
            "[0, 1, 1, 2, 3, 5, 8, 13, 21, 34]\n"
          ],
          "name": "stdout"
        }
      ]
    }
  ]
}