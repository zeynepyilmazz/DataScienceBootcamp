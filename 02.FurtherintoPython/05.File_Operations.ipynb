{
  "nbformat": 4,
  "nbformat_minor": 0,
  "metadata": {
    "kernelspec": {
      "display_name": "Python 3",
      "language": "python",
      "name": "python3"
    },
    "language_info": {
      "codemirror_mode": {
        "name": "ipython",
        "version": 3
      },
      "file_extension": ".py",
      "mimetype": "text/x-python",
      "name": "python",
      "nbconvert_exporter": "python",
      "pygments_lexer": "ipython3",
      "version": "3.8.2"
    },
    "colab": {
      "name": "05.File_Operations.ipynb",
      "provenance": [],
      "collapsed_sections": [],
      "include_colab_link": true
    }
  },
  "cells": [
    {
      "cell_type": "markdown",
      "metadata": {
        "id": "view-in-github",
        "colab_type": "text"
      },
      "source": [
        "<a href=\"https://colab.research.google.com/github/zeynepyilmazz/DataScienceBootcamp/blob/main/02.FurtherintoPython/05.File_Operations.ipynb\" target=\"_parent\"><img src=\"https://colab.research.google.com/assets/colab-badge.svg\" alt=\"Open In Colab\"/></a>"
      ]
    },
    {
      "cell_type": "markdown",
      "metadata": {
        "id": "4zXeqYzJ3Y6R"
      },
      "source": [
        "**(1)** Please write a poem you wanted in a `.txt` file and save it to the disk."
      ]
    },
    {
      "cell_type": "code",
      "metadata": {
        "id": "ekB2NS0N3Y6Y"
      },
      "source": [
        "with open(\"poem.txt\",'w') as f: \n",
        "    f.write(\"\"\"Seni düşünmek güzel şey, ümitli şey\n",
        "Dünyanın en güzel sesinden\n",
        "En güzel şarkıyı dinlemek gibi bir şey\n",
        "Fakat artık ümit yetmiyor bana,\n",
        "Ben artık şarkı dinlemek değil\n",
        "Şarkı söylemek istiyorum…\\n\\n\"\"\")"
      ],
      "execution_count": null,
      "outputs": []
    },
    {
      "cell_type": "markdown",
      "metadata": {
        "id": "DG-Xy_ui3Y6Z"
      },
      "source": [
        "**(2)** Append a new poem into the file you have created."
      ]
    },
    {
      "cell_type": "code",
      "metadata": {
        "id": "jDOkjMk73Y6Z"
      },
      "source": [
        "with open(\"poem.txt\",'a') as f: \n",
        "    f.write(\"\"\"Bir bozuk saattir yüreğim, hep sende durur\\n\n",
        "Herkes seni sen zanneder.\n",
        "Senin sen olmadığını bile bilmeden,\n",
        "Sen bile..\n",
        "Seni ben geçerken,\n",
        "Derim ki,\n",
        "Saati sorduklarında;\n",
        "Onu ”O” geçiyordur.\n",
        "Kimse anlam veremez.\n",
        "Tamir ettirmedin gitti derler şu saati.\n",
        "Ettirmek istiyor musun demezler.\n",
        " \n",
        "Bir bozuk saattir yüreğim, hep sende durur.\n",
        " \n",
        "Zamanı durdururum yüreğimde,\n",
        "Sensiz geçtiği için,\n",
        "Akrep yelkovana küskündür.\n",
        "Şu bozuk saat çalışsa benim için ölümdür.\n",
        "Bil ki akrep yelkovanı geçerse,\n",
        "Atan bu yüreğim durur.\n",
        "Bırak bozuk kalsın, hiç değilse;\n",
        " \n",
        "Bir bozuk saattir yüreğim, hep sende durur.\"\"\")"
      ],
      "execution_count": null,
      "outputs": []
    },
    {
      "cell_type": "markdown",
      "metadata": {
        "id": "GTDgJ36Z3Y6Z"
      },
      "source": [
        "**(3)** Read and print all poems."
      ]
    },
    {
      "cell_type": "code",
      "metadata": {
        "id": "2ip71Okm3Y6a",
        "colab": {
          "base_uri": "https://localhost:8080/"
        },
        "outputId": "1e7fc013-b0cd-445d-c820-8d42753d2cdf"
      },
      "source": [
        "with open(\"poem.txt\", \"r\", encoding='utf8') as f:\n",
        "    line=f.read() \n",
        "\n",
        "print (line)"
      ],
      "execution_count": null,
      "outputs": [
        {
          "output_type": "stream",
          "text": [
            "Seni düşünmek güzel şey, ümitli şey\n",
            "Dünyanın en güzel sesinden\n",
            "En güzel şarkıyı dinlemek gibi bir şey\n",
            "Fakat artık ümit yetmiyor bana,\n",
            "Ben artık şarkı dinlemek değil\n",
            "Şarkı söylemek istiyorum…\n",
            "\n",
            "Bir bozuk saattir yüreğim, hep sende durur\n",
            "\n",
            "Herkes seni sen zanneder.\n",
            "Senin sen olmadığını bile bilmeden,\n",
            "Sen bile..\n",
            "Seni ben geçerken,\n",
            "Derim ki,\n",
            "Saati sorduklarında;\n",
            "Onu ”O” geçiyordur.\n",
            "Kimse anlam veremez.\n",
            "Tamir ettirmedin gitti derler şu saati.\n",
            "Ettirmek istiyor musun demezler.\n",
            " \n",
            "Bir bozuk saattir yüreğim, hep sende durur.\n",
            " \n",
            "Zamanı durdururum yüreğimde,\n",
            "Sensiz geçtiği için,\n",
            "Akrep yelkovana küskündür.\n",
            "Şu bozuk saat çalışsa benim için ölümdür.\n",
            "Bil ki akrep yelkovanı geçerse,\n",
            "Atan bu yüreğim durur.\n",
            "Bırak bozuk kalsın, hiç değilse;\n",
            " \n",
            "Bir bozuk saattir yüreğim, hep sende durur.\n"
          ],
          "name": "stdout"
        }
      ]
    }
  ]
}