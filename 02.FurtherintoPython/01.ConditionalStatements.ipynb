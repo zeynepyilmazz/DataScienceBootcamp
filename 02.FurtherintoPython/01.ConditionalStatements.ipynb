{
  "nbformat": 4,
  "nbformat_minor": 0,
  "metadata": {
    "colab": {
      "name": "01.ConditionalStatements.ipynb",
      "provenance": [],
      "collapsed_sections": [],
      "authorship_tag": "ABX9TyOMLChY0kukeAROCjEjCSF7",
      "include_colab_link": true
    },
    "kernelspec": {
      "name": "python3",
      "display_name": "Python 3"
    }
  },
  "cells": [
    {
      "cell_type": "markdown",
      "metadata": {
        "id": "view-in-github",
        "colab_type": "text"
      },
      "source": [
        "<a href=\"https://colab.research.google.com/github/zeynepyilmazz/DataScienceBootcamp/blob/main/02.FurtherintoPython/01.ConditionalStatements.ipynb\" target=\"_parent\"><img src=\"https://colab.research.google.com/assets/colab-badge.svg\" alt=\"Open In Colab\"/></a>"
      ]
    },
    {
      "cell_type": "markdown",
      "metadata": {
        "id": "zkl4dHuYLKYP"
      },
      "source": [
        "**(1)** Please get Celcius or Fahrenheit degrees from users and type a code to convert these heat units to each other.  \n",
        "    \n",
        "    For conversion, please use this formula: C = (5/9) * (F - 32)\n",
        "    \n",
        "        Example : \"40C\" --> \"104F\"\n",
        "                  \"52F\" --> \"11.1C\"\n"
      ]
    },
    {
      "cell_type": "code",
      "metadata": {
        "colab": {
          "base_uri": "https://localhost:8080/"
        },
        "id": "6Z41l4dSK36V",
        "outputId": "6f5d91c0-2af7-4e30-b0e4-5c5bd360af1b"
      },
      "source": [
        "sıcaklık = input(\"dönüşüm için sıcaklık değeri giriniz:\")\n",
        "celcius = fahreneit = None\n",
        "if (sıcaklık[-1] == \"F\" or sıcaklık[-1] == \"f\"):\n",
        "  celcius = (5 / 9) * (float(sıcaklık[:-1]) - 32)\n",
        "  print(\"{}F ---> {:.2f}C\".format(sıcaklık[:-1],celcius))\n",
        "\n",
        "if (sıcaklık[-1] == \"C\" or sıcaklık[-1] == \"c\"):\n",
        "  fahreneit = (float(sıcaklık[:-1]) / (5 / 9)) + 32\n",
        "  print(\"{}C ---> {:.2f}F\".format(sıcaklık[:-1],fahreneit))\n",
        "\n"
      ],
      "execution_count": null,
      "outputs": [
        {
          "output_type": "stream",
          "text": [
            "dönüşüm için sıcaklık değeri giriniz:52f\n",
            "52F ---> 11.11C\n"
          ],
          "name": "stdout"
        }
      ]
    },
    {
      "cell_type": "markdown",
      "metadata": {
        "id": "BSWgPFyXQXpy"
      },
      "source": [
        "**(2)** A company decided to give a bonus of 5% to the employees if his/her year of service is more than 5 years.\n",
        "Ask the user for their salary and year of service and print the net bonus amount."
      ]
    },
    {
      "cell_type": "code",
      "metadata": {
        "colab": {
          "base_uri": "https://localhost:8080/"
        },
        "id": "gh4cWWwnpIYa",
        "outputId": "3415439f-8f44-43ed-daf4-4e6b17a6de30"
      },
      "source": [
        "salary = int(input(\"salary :\"))\n",
        "year = int(input(\"year of service :\"))\n",
        "if (year > 5):\n",
        "  bonus = salary * 0.05\n",
        "  print(\"bonus : {}\".format(bonus))\n",
        "else:\n",
        "  print(\"no bonus\")"
      ],
      "execution_count": null,
      "outputs": [
        {
          "output_type": "stream",
          "text": [
            "salary :4500\n",
            "year of service :2\n",
            "no bonus\n"
          ],
          "name": "stdout"
        }
      ]
    },
    {
      "cell_type": "markdown",
      "metadata": {
        "id": "mvtzgH_sob3J"
      },
      "source": [
        "**(3)** Take input of ages of 3 people by the user and determine the oldest and youngest among them."
      ]
    },
    {
      "cell_type": "code",
      "metadata": {
        "id": "gP1CA04Yofim",
        "colab": {
          "base_uri": "https://localhost:8080/"
        },
        "outputId": "a75fd3ab-ee35-4dcf-d096-60895ab1a584"
      },
      "source": [
        "info = {}\n",
        "info[int(input(\"age :\"))] = input(\"name :\")\n",
        "info[int(input(\"age :\"))] = input(\"name :\")\n",
        "info[int(input(\"age :\"))] = input(\"name :\")\n",
        "age = list(info.keys())\n",
        "if (age[0] > age[1]):\n",
        "  temp = age[0]\n",
        "  age[0] = age[1]\n",
        "  age[1] = temp\n",
        "if (age[0] > age[2]):\n",
        "  temp = age[0]\n",
        "  age[0] = age[2]\n",
        "  age[2] = temp\n",
        "if (age[1] > age[2]):\n",
        "  temp = age[1]\n",
        "  age[1] = age[2]\n",
        "  age[2] = temp\n",
        "\n",
        "print(\"oldest people : {}\".format(info[age[-1]]))\n",
        "print(\"youngest people : {}\".format(info[age[0]]))\n"
      ],
      "execution_count": null,
      "outputs": [
        {
          "output_type": "stream",
          "text": [
            "name :zeynep\n",
            "age :23\n",
            "name :emre\n",
            "age :17\n",
            "name :yasemin\n",
            "age :26\n",
            "oldest people : yasemin\n",
            "youngest people : emre\n"
          ],
          "name": "stdout"
        }
      ]
    },
    {
      "cell_type": "markdown",
      "metadata": {
        "id": "-UGXmfEu0A7d"
      },
      "source": [
        "**(4)** A student will not be allowed to attend to the exam if his / her attendance to classes is less than 75%. Take followings input from the user:\n",
        "- Number of classes held,\n",
        "- Number of classes attended.\n",
        "   \n",
        "    Then, print the percentage of classes attended and whether the student is allowed to attend in an exam or not."
      ]
    },
    {
      "cell_type": "code",
      "metadata": {
        "colab": {
          "base_uri": "https://localhost:8080/"
        },
        "id": "ESO8QT_Z0FBy",
        "outputId": "cd9d7ef4-21f4-4a59-8f33-60f3d8048f4c"
      },
      "source": [
        "classes_held = int(input(\"Number of classes held : \"))\n",
        "classes_attended = int(input(\"Number of classes attended : \"))\n",
        "result = (100 * classes_attended) / classes_held\n",
        "if (result < 75):\n",
        "  print(\"Can't take the exam\")\n",
        "else:\n",
        "  print(\"Can take the exam\")\n"
      ],
      "execution_count": null,
      "outputs": [
        {
          "output_type": "stream",
          "text": [
            "Number of classes held : 14\n",
            "Number of classes attended : 11\n",
            "Can take the exam\n"
          ],
          "name": "stdout"
        }
      ]
    },
    {
      "cell_type": "markdown",
      "metadata": {
        "id": "lZJzXDYmd38B"
      },
      "source": [
        "**(5)** In this exercise, you will create a program that reads a letter of the alphabet from the user. According to the answer:\n",
        "\n",
        "- If the user enters `a, e, i, o, u`, then your program should display a message indicating that the entered letter is a vowel.\n",
        "- If the user enters `y`, then your program should display a message indicating that y is sometimes a vowel and sometimes a consonant.\n",
        "- Otherwise, your program should display a message indicating that the letter is a consonant."
      ]
    },
    {
      "cell_type": "code",
      "metadata": {
        "id": "DvMrKzCV6Pev",
        "colab": {
          "base_uri": "https://localhost:8080/"
        },
        "outputId": "40319fce-ab63-4e9e-bf9d-d3ba13b1f430"
      },
      "source": [
        "vowel = [ 'a', 'ı', 'o', 'u','e']\n",
        "consonant = ['b','c','d','f','g','h','j','k','l','m','n','p','q','r','s','t','v','w','x','y','z']\n",
        "character = input(\"letter :\")\n",
        "\n",
        "if (character in vowel):\n",
        "  print(\"Entered letter is a vowel\")\n",
        "elif (character == 'y'):\n",
        "  print(\"y is sometimes a vowel and sometimes a consonant\")\n",
        "elif (character in consonant):\n",
        "  print(\"Letter is a consonant\")\n",
        "else:\n",
        "  print(\"Not a letter\")\n",
        "\n",
        "  \n"
      ],
      "execution_count": null,
      "outputs": [
        {
          "output_type": "stream",
          "text": [
            "letter :s\n",
            "Letter is a consonant\n"
          ],
          "name": "stdout"
        }
      ]
    }
  ]
}